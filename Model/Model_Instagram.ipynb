{
  "nbformat": 4,
  "nbformat_minor": 0,
  "metadata": {
    "colab": {
      "name": "Model Instagram.ipynb",
      "provenance": [],
      "collapsed_sections": [
        "V1heUkFUXyGm"
      ]
    },
    "kernelspec": {
      "name": "python3",
      "display_name": "Python 3"
    },
    "language_info": {
      "name": "python"
    }
  },
  "cells": [
    {
      "cell_type": "markdown",
      "source": [
        "# Import"
      ],
      "metadata": {
        "id": "V1heUkFUXyGm"
      }
    },
    {
      "cell_type": "code",
      "source": [
        "#Import all of the library that we're going to use\n",
        "import pandas as pd\n",
        "import numpy as np\n",
        "import tensorflow as tf"
      ],
      "metadata": {
        "id": "_VHyQNENYT4Y"
      },
      "execution_count": 1,
      "outputs": []
    },
    {
      "cell_type": "markdown",
      "source": [
        "# Upload dataset"
      ],
      "metadata": {
        "id": "NG15NhZzYn2O"
      }
    },
    {
      "cell_type": "code",
      "source": [
        "#Here we're upload our dataset\n",
        "# In here we're going to use the \"Data Instagram\" and \"Data Tiktok\"\n",
        "dataset_ig = pd.read_csv(\"https://raw.githubusercontent.com/fachrul-rh/influeHands-ML/main/Dataset/Instagram.csv\")\n",
        "dummy_ig = pd.read_csv(\"https://raw.githubusercontent.com/fachrul-rh/influeHands-ML/main/Dataset/Dataset%20User%20(Instagram).csv\")"
      ],
      "metadata": {
        "id": "uhrQEFdvYrMD"
      },
      "execution_count": 2,
      "outputs": []
    },
    {
      "cell_type": "code",
      "source": [
        "dummy_ig.head()"
      ],
      "metadata": {
        "colab": {
          "base_uri": "https://localhost:8080/",
          "height": 206
        },
        "id": "5rW2eXxT6Wvk",
        "outputId": "22226e91-d00f-4ade-ae5c-71361911f45b"
      },
      "execution_count": 3,
      "outputs": [
        {
          "output_type": "execute_result",
          "data": {
            "text/plain": [
              "       Nama  Food & Cooking  Fashion  Entertainment  Travel & Accomodation  \\\n",
              "0  BrandIG1              10        0              0                      0   \n",
              "1  BrandIG2               0       10              3                      0   \n",
              "2  BrandIG3               0        0             10                      0   \n",
              "3  BrandIG4               1        0              0                     10   \n",
              "4  BrandIG5               0        0              0                      0   \n",
              "\n",
              "   Beauty  Healthcare  Technology  Automotive  Education  Sports  Finance  \\\n",
              "0       0           0           0           0          0       0        0   \n",
              "1       0           0           0           0          0       0        0   \n",
              "2       0           0           0           0          0       0        0   \n",
              "3       0           0           0           0          0       0        0   \n",
              "4      10           3           0           0          0       0        0   \n",
              "\n",
              "   Tips & Trick About Career  \n",
              "0                          0  \n",
              "1                          0  \n",
              "2                          0  \n",
              "3                          0  \n",
              "4                          0  "
            ],
            "text/html": [
              "\n",
              "  <div id=\"df-4d5cf383-16ab-4ed2-bc50-5c238b836c43\">\n",
              "    <div class=\"colab-df-container\">\n",
              "      <div>\n",
              "<style scoped>\n",
              "    .dataframe tbody tr th:only-of-type {\n",
              "        vertical-align: middle;\n",
              "    }\n",
              "\n",
              "    .dataframe tbody tr th {\n",
              "        vertical-align: top;\n",
              "    }\n",
              "\n",
              "    .dataframe thead th {\n",
              "        text-align: right;\n",
              "    }\n",
              "</style>\n",
              "<table border=\"1\" class=\"dataframe\">\n",
              "  <thead>\n",
              "    <tr style=\"text-align: right;\">\n",
              "      <th></th>\n",
              "      <th>Nama</th>\n",
              "      <th>Food &amp; Cooking</th>\n",
              "      <th>Fashion</th>\n",
              "      <th>Entertainment</th>\n",
              "      <th>Travel &amp; Accomodation</th>\n",
              "      <th>Beauty</th>\n",
              "      <th>Healthcare</th>\n",
              "      <th>Technology</th>\n",
              "      <th>Automotive</th>\n",
              "      <th>Education</th>\n",
              "      <th>Sports</th>\n",
              "      <th>Finance</th>\n",
              "      <th>Tips &amp; Trick About Career</th>\n",
              "    </tr>\n",
              "  </thead>\n",
              "  <tbody>\n",
              "    <tr>\n",
              "      <th>0</th>\n",
              "      <td>BrandIG1</td>\n",
              "      <td>10</td>\n",
              "      <td>0</td>\n",
              "      <td>0</td>\n",
              "      <td>0</td>\n",
              "      <td>0</td>\n",
              "      <td>0</td>\n",
              "      <td>0</td>\n",
              "      <td>0</td>\n",
              "      <td>0</td>\n",
              "      <td>0</td>\n",
              "      <td>0</td>\n",
              "      <td>0</td>\n",
              "    </tr>\n",
              "    <tr>\n",
              "      <th>1</th>\n",
              "      <td>BrandIG2</td>\n",
              "      <td>0</td>\n",
              "      <td>10</td>\n",
              "      <td>3</td>\n",
              "      <td>0</td>\n",
              "      <td>0</td>\n",
              "      <td>0</td>\n",
              "      <td>0</td>\n",
              "      <td>0</td>\n",
              "      <td>0</td>\n",
              "      <td>0</td>\n",
              "      <td>0</td>\n",
              "      <td>0</td>\n",
              "    </tr>\n",
              "    <tr>\n",
              "      <th>2</th>\n",
              "      <td>BrandIG3</td>\n",
              "      <td>0</td>\n",
              "      <td>0</td>\n",
              "      <td>10</td>\n",
              "      <td>0</td>\n",
              "      <td>0</td>\n",
              "      <td>0</td>\n",
              "      <td>0</td>\n",
              "      <td>0</td>\n",
              "      <td>0</td>\n",
              "      <td>0</td>\n",
              "      <td>0</td>\n",
              "      <td>0</td>\n",
              "    </tr>\n",
              "    <tr>\n",
              "      <th>3</th>\n",
              "      <td>BrandIG4</td>\n",
              "      <td>1</td>\n",
              "      <td>0</td>\n",
              "      <td>0</td>\n",
              "      <td>10</td>\n",
              "      <td>0</td>\n",
              "      <td>0</td>\n",
              "      <td>0</td>\n",
              "      <td>0</td>\n",
              "      <td>0</td>\n",
              "      <td>0</td>\n",
              "      <td>0</td>\n",
              "      <td>0</td>\n",
              "    </tr>\n",
              "    <tr>\n",
              "      <th>4</th>\n",
              "      <td>BrandIG5</td>\n",
              "      <td>0</td>\n",
              "      <td>0</td>\n",
              "      <td>0</td>\n",
              "      <td>0</td>\n",
              "      <td>10</td>\n",
              "      <td>3</td>\n",
              "      <td>0</td>\n",
              "      <td>0</td>\n",
              "      <td>0</td>\n",
              "      <td>0</td>\n",
              "      <td>0</td>\n",
              "      <td>0</td>\n",
              "    </tr>\n",
              "  </tbody>\n",
              "</table>\n",
              "</div>\n",
              "      <button class=\"colab-df-convert\" onclick=\"convertToInteractive('df-4d5cf383-16ab-4ed2-bc50-5c238b836c43')\"\n",
              "              title=\"Convert this dataframe to an interactive table.\"\n",
              "              style=\"display:none;\">\n",
              "        \n",
              "  <svg xmlns=\"http://www.w3.org/2000/svg\" height=\"24px\"viewBox=\"0 0 24 24\"\n",
              "       width=\"24px\">\n",
              "    <path d=\"M0 0h24v24H0V0z\" fill=\"none\"/>\n",
              "    <path d=\"M18.56 5.44l.94 2.06.94-2.06 2.06-.94-2.06-.94-.94-2.06-.94 2.06-2.06.94zm-11 1L8.5 8.5l.94-2.06 2.06-.94-2.06-.94L8.5 2.5l-.94 2.06-2.06.94zm10 10l.94 2.06.94-2.06 2.06-.94-2.06-.94-.94-2.06-.94 2.06-2.06.94z\"/><path d=\"M17.41 7.96l-1.37-1.37c-.4-.4-.92-.59-1.43-.59-.52 0-1.04.2-1.43.59L10.3 9.45l-7.72 7.72c-.78.78-.78 2.05 0 2.83L4 21.41c.39.39.9.59 1.41.59.51 0 1.02-.2 1.41-.59l7.78-7.78 2.81-2.81c.8-.78.8-2.07 0-2.86zM5.41 20L4 18.59l7.72-7.72 1.47 1.35L5.41 20z\"/>\n",
              "  </svg>\n",
              "      </button>\n",
              "      \n",
              "  <style>\n",
              "    .colab-df-container {\n",
              "      display:flex;\n",
              "      flex-wrap:wrap;\n",
              "      gap: 12px;\n",
              "    }\n",
              "\n",
              "    .colab-df-convert {\n",
              "      background-color: #E8F0FE;\n",
              "      border: none;\n",
              "      border-radius: 50%;\n",
              "      cursor: pointer;\n",
              "      display: none;\n",
              "      fill: #1967D2;\n",
              "      height: 32px;\n",
              "      padding: 0 0 0 0;\n",
              "      width: 32px;\n",
              "    }\n",
              "\n",
              "    .colab-df-convert:hover {\n",
              "      background-color: #E2EBFA;\n",
              "      box-shadow: 0px 1px 2px rgba(60, 64, 67, 0.3), 0px 1px 3px 1px rgba(60, 64, 67, 0.15);\n",
              "      fill: #174EA6;\n",
              "    }\n",
              "\n",
              "    [theme=dark] .colab-df-convert {\n",
              "      background-color: #3B4455;\n",
              "      fill: #D2E3FC;\n",
              "    }\n",
              "\n",
              "    [theme=dark] .colab-df-convert:hover {\n",
              "      background-color: #434B5C;\n",
              "      box-shadow: 0px 1px 3px 1px rgba(0, 0, 0, 0.15);\n",
              "      filter: drop-shadow(0px 1px 2px rgba(0, 0, 0, 0.3));\n",
              "      fill: #FFFFFF;\n",
              "    }\n",
              "  </style>\n",
              "\n",
              "      <script>\n",
              "        const buttonEl =\n",
              "          document.querySelector('#df-4d5cf383-16ab-4ed2-bc50-5c238b836c43 button.colab-df-convert');\n",
              "        buttonEl.style.display =\n",
              "          google.colab.kernel.accessAllowed ? 'block' : 'none';\n",
              "\n",
              "        async function convertToInteractive(key) {\n",
              "          const element = document.querySelector('#df-4d5cf383-16ab-4ed2-bc50-5c238b836c43');\n",
              "          const dataTable =\n",
              "            await google.colab.kernel.invokeFunction('convertToInteractive',\n",
              "                                                     [key], {});\n",
              "          if (!dataTable) return;\n",
              "\n",
              "          const docLinkHtml = 'Like what you see? Visit the ' +\n",
              "            '<a target=\"_blank\" href=https://colab.research.google.com/notebooks/data_table.ipynb>data table notebook</a>'\n",
              "            + ' to learn more about interactive tables.';\n",
              "          element.innerHTML = '';\n",
              "          dataTable['output_type'] = 'display_data';\n",
              "          await google.colab.output.renderOutput(dataTable, element);\n",
              "          const docLink = document.createElement('div');\n",
              "          docLink.innerHTML = docLinkHtml;\n",
              "          element.appendChild(docLink);\n",
              "        }\n",
              "      </script>\n",
              "    </div>\n",
              "  </div>\n",
              "  "
            ]
          },
          "metadata": {},
          "execution_count": 3
        }
      ]
    },
    {
      "cell_type": "markdown",
      "source": [
        "# Build Model"
      ],
      "metadata": {
        "id": "6_90YGlmZHyd"
      }
    },
    {
      "cell_type": "markdown",
      "source": [
        "## Preparing Dataset IG"
      ],
      "metadata": {
        "id": "uhoykmm55gHL"
      }
    },
    {
      "cell_type": "code",
      "source": [
        "#Select the data for category\n",
        "kategori_ig = dataset_ig.iloc[:, 6:]\n",
        "kategori_ig.head()"
      ],
      "metadata": {
        "colab": {
          "base_uri": "https://localhost:8080/",
          "height": 206
        },
        "id": "gylh3fhtZOUn",
        "outputId": "79aa3d40-894b-402b-fe07-2dc1be918c03"
      },
      "execution_count": 4,
      "outputs": [
        {
          "output_type": "execute_result",
          "data": {
            "text/plain": [
              "   Food & Cooking  Fashion  Entertainment  Travel & Accomodation  Beauty  \\\n",
              "0               0        0              0                      0       0   \n",
              "1               0        0              1                      0       0   \n",
              "2               0        0              0                      0       0   \n",
              "3               0        0              0                      0       0   \n",
              "4               1        0              0                      0       0   \n",
              "\n",
              "   Healthcare  Technology  Automotive  Education  Sports  Finance  \\\n",
              "0           0           0           0          1       0        0   \n",
              "1           0           1           0          0       0        0   \n",
              "2           0           0           0          1       0        0   \n",
              "3           0           0           0          0       0        0   \n",
              "4           0           0           0          0       0        0   \n",
              "\n",
              "   Tips & Trick About Career  \n",
              "0                          0  \n",
              "1                          0  \n",
              "2                          1  \n",
              "3                          1  \n",
              "4                          0  "
            ],
            "text/html": [
              "\n",
              "  <div id=\"df-8af38528-d550-450f-a76f-983296cbadef\">\n",
              "    <div class=\"colab-df-container\">\n",
              "      <div>\n",
              "<style scoped>\n",
              "    .dataframe tbody tr th:only-of-type {\n",
              "        vertical-align: middle;\n",
              "    }\n",
              "\n",
              "    .dataframe tbody tr th {\n",
              "        vertical-align: top;\n",
              "    }\n",
              "\n",
              "    .dataframe thead th {\n",
              "        text-align: right;\n",
              "    }\n",
              "</style>\n",
              "<table border=\"1\" class=\"dataframe\">\n",
              "  <thead>\n",
              "    <tr style=\"text-align: right;\">\n",
              "      <th></th>\n",
              "      <th>Food &amp; Cooking</th>\n",
              "      <th>Fashion</th>\n",
              "      <th>Entertainment</th>\n",
              "      <th>Travel &amp; Accomodation</th>\n",
              "      <th>Beauty</th>\n",
              "      <th>Healthcare</th>\n",
              "      <th>Technology</th>\n",
              "      <th>Automotive</th>\n",
              "      <th>Education</th>\n",
              "      <th>Sports</th>\n",
              "      <th>Finance</th>\n",
              "      <th>Tips &amp; Trick About Career</th>\n",
              "    </tr>\n",
              "  </thead>\n",
              "  <tbody>\n",
              "    <tr>\n",
              "      <th>0</th>\n",
              "      <td>0</td>\n",
              "      <td>0</td>\n",
              "      <td>0</td>\n",
              "      <td>0</td>\n",
              "      <td>0</td>\n",
              "      <td>0</td>\n",
              "      <td>0</td>\n",
              "      <td>0</td>\n",
              "      <td>1</td>\n",
              "      <td>0</td>\n",
              "      <td>0</td>\n",
              "      <td>0</td>\n",
              "    </tr>\n",
              "    <tr>\n",
              "      <th>1</th>\n",
              "      <td>0</td>\n",
              "      <td>0</td>\n",
              "      <td>1</td>\n",
              "      <td>0</td>\n",
              "      <td>0</td>\n",
              "      <td>0</td>\n",
              "      <td>1</td>\n",
              "      <td>0</td>\n",
              "      <td>0</td>\n",
              "      <td>0</td>\n",
              "      <td>0</td>\n",
              "      <td>0</td>\n",
              "    </tr>\n",
              "    <tr>\n",
              "      <th>2</th>\n",
              "      <td>0</td>\n",
              "      <td>0</td>\n",
              "      <td>0</td>\n",
              "      <td>0</td>\n",
              "      <td>0</td>\n",
              "      <td>0</td>\n",
              "      <td>0</td>\n",
              "      <td>0</td>\n",
              "      <td>1</td>\n",
              "      <td>0</td>\n",
              "      <td>0</td>\n",
              "      <td>1</td>\n",
              "    </tr>\n",
              "    <tr>\n",
              "      <th>3</th>\n",
              "      <td>0</td>\n",
              "      <td>0</td>\n",
              "      <td>0</td>\n",
              "      <td>0</td>\n",
              "      <td>0</td>\n",
              "      <td>0</td>\n",
              "      <td>0</td>\n",
              "      <td>0</td>\n",
              "      <td>0</td>\n",
              "      <td>0</td>\n",
              "      <td>0</td>\n",
              "      <td>1</td>\n",
              "    </tr>\n",
              "    <tr>\n",
              "      <th>4</th>\n",
              "      <td>1</td>\n",
              "      <td>0</td>\n",
              "      <td>0</td>\n",
              "      <td>0</td>\n",
              "      <td>0</td>\n",
              "      <td>0</td>\n",
              "      <td>0</td>\n",
              "      <td>0</td>\n",
              "      <td>0</td>\n",
              "      <td>0</td>\n",
              "      <td>0</td>\n",
              "      <td>0</td>\n",
              "    </tr>\n",
              "  </tbody>\n",
              "</table>\n",
              "</div>\n",
              "      <button class=\"colab-df-convert\" onclick=\"convertToInteractive('df-8af38528-d550-450f-a76f-983296cbadef')\"\n",
              "              title=\"Convert this dataframe to an interactive table.\"\n",
              "              style=\"display:none;\">\n",
              "        \n",
              "  <svg xmlns=\"http://www.w3.org/2000/svg\" height=\"24px\"viewBox=\"0 0 24 24\"\n",
              "       width=\"24px\">\n",
              "    <path d=\"M0 0h24v24H0V0z\" fill=\"none\"/>\n",
              "    <path d=\"M18.56 5.44l.94 2.06.94-2.06 2.06-.94-2.06-.94-.94-2.06-.94 2.06-2.06.94zm-11 1L8.5 8.5l.94-2.06 2.06-.94-2.06-.94L8.5 2.5l-.94 2.06-2.06.94zm10 10l.94 2.06.94-2.06 2.06-.94-2.06-.94-.94-2.06-.94 2.06-2.06.94z\"/><path d=\"M17.41 7.96l-1.37-1.37c-.4-.4-.92-.59-1.43-.59-.52 0-1.04.2-1.43.59L10.3 9.45l-7.72 7.72c-.78.78-.78 2.05 0 2.83L4 21.41c.39.39.9.59 1.41.59.51 0 1.02-.2 1.41-.59l7.78-7.78 2.81-2.81c.8-.78.8-2.07 0-2.86zM5.41 20L4 18.59l7.72-7.72 1.47 1.35L5.41 20z\"/>\n",
              "  </svg>\n",
              "      </button>\n",
              "      \n",
              "  <style>\n",
              "    .colab-df-container {\n",
              "      display:flex;\n",
              "      flex-wrap:wrap;\n",
              "      gap: 12px;\n",
              "    }\n",
              "\n",
              "    .colab-df-convert {\n",
              "      background-color: #E8F0FE;\n",
              "      border: none;\n",
              "      border-radius: 50%;\n",
              "      cursor: pointer;\n",
              "      display: none;\n",
              "      fill: #1967D2;\n",
              "      height: 32px;\n",
              "      padding: 0 0 0 0;\n",
              "      width: 32px;\n",
              "    }\n",
              "\n",
              "    .colab-df-convert:hover {\n",
              "      background-color: #E2EBFA;\n",
              "      box-shadow: 0px 1px 2px rgba(60, 64, 67, 0.3), 0px 1px 3px 1px rgba(60, 64, 67, 0.15);\n",
              "      fill: #174EA6;\n",
              "    }\n",
              "\n",
              "    [theme=dark] .colab-df-convert {\n",
              "      background-color: #3B4455;\n",
              "      fill: #D2E3FC;\n",
              "    }\n",
              "\n",
              "    [theme=dark] .colab-df-convert:hover {\n",
              "      background-color: #434B5C;\n",
              "      box-shadow: 0px 1px 3px 1px rgba(0, 0, 0, 0.15);\n",
              "      filter: drop-shadow(0px 1px 2px rgba(0, 0, 0, 0.3));\n",
              "      fill: #FFFFFF;\n",
              "    }\n",
              "  </style>\n",
              "\n",
              "      <script>\n",
              "        const buttonEl =\n",
              "          document.querySelector('#df-8af38528-d550-450f-a76f-983296cbadef button.colab-df-convert');\n",
              "        buttonEl.style.display =\n",
              "          google.colab.kernel.accessAllowed ? 'block' : 'none';\n",
              "\n",
              "        async function convertToInteractive(key) {\n",
              "          const element = document.querySelector('#df-8af38528-d550-450f-a76f-983296cbadef');\n",
              "          const dataTable =\n",
              "            await google.colab.kernel.invokeFunction('convertToInteractive',\n",
              "                                                     [key], {});\n",
              "          if (!dataTable) return;\n",
              "\n",
              "          const docLinkHtml = 'Like what you see? Visit the ' +\n",
              "            '<a target=\"_blank\" href=https://colab.research.google.com/notebooks/data_table.ipynb>data table notebook</a>'\n",
              "            + ' to learn more about interactive tables.';\n",
              "          element.innerHTML = '';\n",
              "          dataTable['output_type'] = 'display_data';\n",
              "          await google.colab.output.renderOutput(dataTable, element);\n",
              "          const docLink = document.createElement('div');\n",
              "          docLink.innerHTML = docLinkHtml;\n",
              "          element.appendChild(docLink);\n",
              "        }\n",
              "      </script>\n",
              "    </div>\n",
              "  </div>\n",
              "  "
            ]
          },
          "metadata": {},
          "execution_count": 4
        }
      ]
    },
    {
      "cell_type": "code",
      "source": [
        " #Change csv to np\n",
        "kategori_ig_np = kategori_ig.to_numpy()\n",
        "print(kategori_ig_np)\n",
        "print(kategori_ig_np.shape)"
      ],
      "metadata": {
        "colab": {
          "base_uri": "https://localhost:8080/"
        },
        "id": "VN8PL1mZZ_4x",
        "outputId": "1af9aa70-910e-41c4-b4b0-e889f21bb42d"
      },
      "execution_count": 5,
      "outputs": [
        {
          "output_type": "stream",
          "name": "stdout",
          "text": [
            "[[0 0 0 ... 0 0 0]\n",
            " [0 0 1 ... 0 0 0]\n",
            " [0 0 0 ... 0 0 1]\n",
            " ...\n",
            " [0 0 0 ... 0 0 0]\n",
            " [0 0 0 ... 0 0 1]\n",
            " [0 0 0 ... 0 0 0]]\n",
            "(174, 12)\n"
          ]
        }
      ]
    },
    {
      "cell_type": "code",
      "source": [
        "kategori_ig_np_trans = kategori_ig_np.transpose()"
      ],
      "metadata": {
        "id": "be0ObbBrdmtZ"
      },
      "execution_count": 6,
      "outputs": []
    },
    {
      "cell_type": "code",
      "source": [
        "#Select the username data\n",
        "nama_ig = dataset_ig.loc[: , \"Username Instagram\"]\n",
        "nama_ig.head()"
      ],
      "metadata": {
        "colab": {
          "base_uri": "https://localhost:8080/"
        },
        "id": "SwooNZDsd61w",
        "outputId": "ad119b54-17cc-4e1d-cfce-5e587c8656c8"
      },
      "execution_count": 7,
      "outputs": [
        {
          "output_type": "execute_result",
          "data": {
            "text/plain": [
              "0        @sabdaps\n",
              "1     @btr_alicee\n",
              "2      @halohanie\n",
              "3    @vinamuliana\n",
              "4     @fadiljaidi\n",
              "Name: Username Instagram, dtype: object"
            ]
          },
          "metadata": {},
          "execution_count": 7
        }
      ]
    },
    {
      "cell_type": "code",
      "source": [
        "nama_ig_np = nama_ig.to_numpy()\n",
        "print(nama_ig_np)\n",
        "print(nama_ig_np.shape)"
      ],
      "metadata": {
        "colab": {
          "base_uri": "https://localhost:8080/"
        },
        "id": "HhpkxsFHehVX",
        "outputId": "de119263-02ef-48fb-f434-2f958d23bcd2"
      },
      "execution_count": 8,
      "outputs": [
        {
          "output_type": "stream",
          "name": "stdout",
          "text": [
            "['@sabdaps' '@btr_alicee' '@halohanie' '@vinamuliana' '@fadiljaidi'\n",
            " '@anisarahim' '@aisyafputri' '@keanuagl' '@fiersabesari' '@btr_babyla'\n",
            " '@cnlulaby' '@inezkristanti' '@eatandtreats' '@greyspolii'\n",
            " '@feliciaputritjiasaka' '@pufflovaa' '@punipun7' '@jeremiahlakhwani'\n",
            " '@ernandaputra' '@sarahgibson21' '@jennyjusuf' '@gadgetins'\n",
            " '@ariefmuhammad' '@sumargodenny' '@tasyiiathasyia' '@tasyafarasya'\n",
            " '@ridhomsakti' '@riaricis1795' '@aprirokh_' '@cacatengker' '@miawaug'\n",
            " '@shitlicious' '@srl789' '@kristanto_pd' '@annisast' '@lestykejora'\n",
            " '@sheggario' '@jonathanend' '@sallytanudjaja' '@amrazing'\n",
            " '@b_channel_indonesia' '@attahalilintar' '@raniazzhr' '@lucintaluna'\n",
            " '@motomobitv' '@galanghendra55real' '@fitra.eri' '@iwanbanaranblog'\n",
            " '@gadgetboy.id' '@sabrinachairunnisa_' '@andhika.diskartes' '@mgdalenaf'\n",
            " '@dr.shindyputri_' '@wegodevindonesia' '@nexcarlos' '@pritaghozie'\n",
            " '@dr. tirta' '@jenniferbachdim' '@htanoko' '@gadgetempireid' '@junarsyi'\n",
            " '@najwashihab' '@autonetmagz' '@kenandgrat' '@antontanjung'\n",
            " '@aurelie.hermansyah' '@umayshahab' '@adindafala' '@natashawilona12'\n",
            " '@andysenjaya' '@raffinagita1717' '@dhiarcom' '@petitedivaa' '@aevafatma'\n",
            " '@mrshananto' '@wisnukumoro' '@kokobuncit' '@ramadhaniabakrie'\n",
            " '@yohanes.cahya' '@bangripiu' '@ellenmay_official' '@marischkaprue'\n",
            " '@ibnujamilo' '@lunamaya' '@sabrinasameh' '@ashanty_ash' '@dicoding'\n",
            " '@raisa6690' '@sarwendah29' '@jscmila' '@_irishbella_' '@drmita.spkk'\n",
            " '@ryanfilbert' '@ayutingting92' '@gisel_la' '@sassychris1'\n",
            " '@ivan_gunawan' '@sukabalapmotor' '@hilmasta' '@kevin_sanjaya'\n",
            " '@pengamatsepakbola' '@zahmuz12' '@bayusaptaji' '@rivannurmulki'\n",
            " '@king.chayra' '@yollayuliana1515' '@hendrasansan' '@valdo_haay'\n",
            " '@edwardcandraa' '@anindyakputri' '@bobbyida' '@danielwenas'\n",
            " '@andreoktvn7' '@aeroaswar' '@imanusman' '@jeromepolin' '@schoters'\n",
            " '@basyasman' '@karinadila8921' '@syafiiefendi' '@marioteguh'\n",
            " '@sherlyannavita' '@renattamoeloek' '@arnoldpo' '@yackikuka'\n",
            " '@resepyummy' '@junarorimpandeyofficial' '@endeus.tv'\n",
            " '@jktfooddestination' '@tanboy_kun' '@abellyc' '@tintinrayner'\n",
            " '@sharazaaa' '@jessicadavaa' '@nala_rinaldo' '@dzawin_nur'\n",
            " '@gunungindonesia' '@puanindya' '@petrichor218' '@nazlaalifa'\n",
            " '@liburanbali' '@thekhayalan' '@agusm123' '@maria_vaniaa'\n",
            " '@missnyctagina' '@andrew.white._' '@dr.okypratamaa' '@zaidulakbar'\n",
            " '@rinaldi_ni' '@wahyuhidayatt_' '@sobat_hape' '@papersboy' '@arrinish'\n",
            " '@herrysw' '@wasawirman' '@akmalriadi' '@indratechlife' '@thelazygadgets'\n",
            " '@k2gadgets' '@bestindotech' '@lokpromedia' '@sahamtalk' '@kefasevander'\n",
            " '@syam_elmarusy' '@ternakuang.id' '@ellenmay_official' '@attarischa'\n",
            " '@itswilliamldj' '@indahwarsetio' '@mirahayunandaanindita' '@teddy.diego'\n",
            " '@azizpict' '@zataligouw' '@otomotifweekly']\n",
            "(174,)\n"
          ]
        }
      ]
    },
    {
      "cell_type": "markdown",
      "source": [
        "## Preparing Data Dummy User"
      ],
      "metadata": {
        "id": "WBTlNTDi5jbB"
      }
    },
    {
      "cell_type": "code",
      "source": [
        "user_brand = dummy_ig.iloc[:1, :]\n",
        "print(user_brand)"
      ],
      "metadata": {
        "colab": {
          "base_uri": "https://localhost:8080/"
        },
        "id": "pWf3SdCW79re",
        "outputId": "5dc2cbde-e61d-48b0-ab65-a2b7a26616a9"
      },
      "execution_count": 9,
      "outputs": [
        {
          "output_type": "stream",
          "name": "stdout",
          "text": [
            "       Nama  Food & Cooking  Fashion  Entertainment  Travel & Accomodation  \\\n",
            "0  BrandIG1              10        0              0                      0   \n",
            "\n",
            "   Beauty  Healthcare  Technology  Automotive  Education  Sports  Finance  \\\n",
            "0       0           0           0           0          0       0        0   \n",
            "\n",
            "   Tips & Trick About Career  \n",
            "0                          0  \n"
          ]
        }
      ]
    },
    {
      "cell_type": "code",
      "source": [
        "target_ig = dummy_ig.iloc[:1 , 1: ]\n",
        "target_ig.head()"
      ],
      "metadata": {
        "colab": {
          "base_uri": "https://localhost:8080/",
          "height": 81
        },
        "id": "Fbs8aQUo5oPC",
        "outputId": "3354eb1e-3760-40cf-ed66-35fbb35bead2"
      },
      "execution_count": 10,
      "outputs": [
        {
          "output_type": "execute_result",
          "data": {
            "text/plain": [
              "   Food & Cooking  Fashion  Entertainment  Travel & Accomodation  Beauty  \\\n",
              "0              10        0              0                      0       0   \n",
              "\n",
              "   Healthcare  Technology  Automotive  Education  Sports  Finance  \\\n",
              "0           0           0           0          0       0        0   \n",
              "\n",
              "   Tips & Trick About Career  \n",
              "0                          0  "
            ],
            "text/html": [
              "\n",
              "  <div id=\"df-e4672419-e699-4e66-894b-58dcbc9b88b0\">\n",
              "    <div class=\"colab-df-container\">\n",
              "      <div>\n",
              "<style scoped>\n",
              "    .dataframe tbody tr th:only-of-type {\n",
              "        vertical-align: middle;\n",
              "    }\n",
              "\n",
              "    .dataframe tbody tr th {\n",
              "        vertical-align: top;\n",
              "    }\n",
              "\n",
              "    .dataframe thead th {\n",
              "        text-align: right;\n",
              "    }\n",
              "</style>\n",
              "<table border=\"1\" class=\"dataframe\">\n",
              "  <thead>\n",
              "    <tr style=\"text-align: right;\">\n",
              "      <th></th>\n",
              "      <th>Food &amp; Cooking</th>\n",
              "      <th>Fashion</th>\n",
              "      <th>Entertainment</th>\n",
              "      <th>Travel &amp; Accomodation</th>\n",
              "      <th>Beauty</th>\n",
              "      <th>Healthcare</th>\n",
              "      <th>Technology</th>\n",
              "      <th>Automotive</th>\n",
              "      <th>Education</th>\n",
              "      <th>Sports</th>\n",
              "      <th>Finance</th>\n",
              "      <th>Tips &amp; Trick About Career</th>\n",
              "    </tr>\n",
              "  </thead>\n",
              "  <tbody>\n",
              "    <tr>\n",
              "      <th>0</th>\n",
              "      <td>10</td>\n",
              "      <td>0</td>\n",
              "      <td>0</td>\n",
              "      <td>0</td>\n",
              "      <td>0</td>\n",
              "      <td>0</td>\n",
              "      <td>0</td>\n",
              "      <td>0</td>\n",
              "      <td>0</td>\n",
              "      <td>0</td>\n",
              "      <td>0</td>\n",
              "      <td>0</td>\n",
              "    </tr>\n",
              "  </tbody>\n",
              "</table>\n",
              "</div>\n",
              "      <button class=\"colab-df-convert\" onclick=\"convertToInteractive('df-e4672419-e699-4e66-894b-58dcbc9b88b0')\"\n",
              "              title=\"Convert this dataframe to an interactive table.\"\n",
              "              style=\"display:none;\">\n",
              "        \n",
              "  <svg xmlns=\"http://www.w3.org/2000/svg\" height=\"24px\"viewBox=\"0 0 24 24\"\n",
              "       width=\"24px\">\n",
              "    <path d=\"M0 0h24v24H0V0z\" fill=\"none\"/>\n",
              "    <path d=\"M18.56 5.44l.94 2.06.94-2.06 2.06-.94-2.06-.94-.94-2.06-.94 2.06-2.06.94zm-11 1L8.5 8.5l.94-2.06 2.06-.94-2.06-.94L8.5 2.5l-.94 2.06-2.06.94zm10 10l.94 2.06.94-2.06 2.06-.94-2.06-.94-.94-2.06-.94 2.06-2.06.94z\"/><path d=\"M17.41 7.96l-1.37-1.37c-.4-.4-.92-.59-1.43-.59-.52 0-1.04.2-1.43.59L10.3 9.45l-7.72 7.72c-.78.78-.78 2.05 0 2.83L4 21.41c.39.39.9.59 1.41.59.51 0 1.02-.2 1.41-.59l7.78-7.78 2.81-2.81c.8-.78.8-2.07 0-2.86zM5.41 20L4 18.59l7.72-7.72 1.47 1.35L5.41 20z\"/>\n",
              "  </svg>\n",
              "      </button>\n",
              "      \n",
              "  <style>\n",
              "    .colab-df-container {\n",
              "      display:flex;\n",
              "      flex-wrap:wrap;\n",
              "      gap: 12px;\n",
              "    }\n",
              "\n",
              "    .colab-df-convert {\n",
              "      background-color: #E8F0FE;\n",
              "      border: none;\n",
              "      border-radius: 50%;\n",
              "      cursor: pointer;\n",
              "      display: none;\n",
              "      fill: #1967D2;\n",
              "      height: 32px;\n",
              "      padding: 0 0 0 0;\n",
              "      width: 32px;\n",
              "    }\n",
              "\n",
              "    .colab-df-convert:hover {\n",
              "      background-color: #E2EBFA;\n",
              "      box-shadow: 0px 1px 2px rgba(60, 64, 67, 0.3), 0px 1px 3px 1px rgba(60, 64, 67, 0.15);\n",
              "      fill: #174EA6;\n",
              "    }\n",
              "\n",
              "    [theme=dark] .colab-df-convert {\n",
              "      background-color: #3B4455;\n",
              "      fill: #D2E3FC;\n",
              "    }\n",
              "\n",
              "    [theme=dark] .colab-df-convert:hover {\n",
              "      background-color: #434B5C;\n",
              "      box-shadow: 0px 1px 3px 1px rgba(0, 0, 0, 0.15);\n",
              "      filter: drop-shadow(0px 1px 2px rgba(0, 0, 0, 0.3));\n",
              "      fill: #FFFFFF;\n",
              "    }\n",
              "  </style>\n",
              "\n",
              "      <script>\n",
              "        const buttonEl =\n",
              "          document.querySelector('#df-e4672419-e699-4e66-894b-58dcbc9b88b0 button.colab-df-convert');\n",
              "        buttonEl.style.display =\n",
              "          google.colab.kernel.accessAllowed ? 'block' : 'none';\n",
              "\n",
              "        async function convertToInteractive(key) {\n",
              "          const element = document.querySelector('#df-e4672419-e699-4e66-894b-58dcbc9b88b0');\n",
              "          const dataTable =\n",
              "            await google.colab.kernel.invokeFunction('convertToInteractive',\n",
              "                                                     [key], {});\n",
              "          if (!dataTable) return;\n",
              "\n",
              "          const docLinkHtml = 'Like what you see? Visit the ' +\n",
              "            '<a target=\"_blank\" href=https://colab.research.google.com/notebooks/data_table.ipynb>data table notebook</a>'\n",
              "            + ' to learn more about interactive tables.';\n",
              "          element.innerHTML = '';\n",
              "          dataTable['output_type'] = 'display_data';\n",
              "          await google.colab.output.renderOutput(dataTable, element);\n",
              "          const docLink = document.createElement('div');\n",
              "          docLink.innerHTML = docLinkHtml;\n",
              "          element.appendChild(docLink);\n",
              "        }\n",
              "      </script>\n",
              "    </div>\n",
              "  </div>\n",
              "  "
            ]
          },
          "metadata": {},
          "execution_count": 10
        }
      ]
    },
    {
      "cell_type": "code",
      "source": [
        "#change csv to numpy\n",
        "target_ig_np = target_ig.to_numpy()\n",
        "print(target_ig_np)\n",
        "print(target_ig_np.shape)"
      ],
      "metadata": {
        "colab": {
          "base_uri": "https://localhost:8080/"
        },
        "id": "0yij68hY6mIA",
        "outputId": "89e22ae4-1e13-45e6-aea2-c5d5ad8b6b94"
      },
      "execution_count": 11,
      "outputs": [
        {
          "output_type": "stream",
          "name": "stdout",
          "text": [
            "[[10  0  0  0  0  0  0  0  0  0  0  0]]\n",
            "(1, 12)\n"
          ]
        }
      ]
    },
    {
      "cell_type": "code",
      "source": [
        "brand_ig = dummy_ig.iloc[0:1 , 0:1]\n",
        "brand_ig.head()"
      ],
      "metadata": {
        "colab": {
          "base_uri": "https://localhost:8080/",
          "height": 81
        },
        "id": "4fK4p8Fc7CJZ",
        "outputId": "a016fce4-ac7f-4493-aea8-047b95887704"
      },
      "execution_count": 12,
      "outputs": [
        {
          "output_type": "execute_result",
          "data": {
            "text/plain": [
              "       Nama\n",
              "0  BrandIG1"
            ],
            "text/html": [
              "\n",
              "  <div id=\"df-ec3cc2f7-eb94-461f-b338-286ecf7ce0fb\">\n",
              "    <div class=\"colab-df-container\">\n",
              "      <div>\n",
              "<style scoped>\n",
              "    .dataframe tbody tr th:only-of-type {\n",
              "        vertical-align: middle;\n",
              "    }\n",
              "\n",
              "    .dataframe tbody tr th {\n",
              "        vertical-align: top;\n",
              "    }\n",
              "\n",
              "    .dataframe thead th {\n",
              "        text-align: right;\n",
              "    }\n",
              "</style>\n",
              "<table border=\"1\" class=\"dataframe\">\n",
              "  <thead>\n",
              "    <tr style=\"text-align: right;\">\n",
              "      <th></th>\n",
              "      <th>Nama</th>\n",
              "    </tr>\n",
              "  </thead>\n",
              "  <tbody>\n",
              "    <tr>\n",
              "      <th>0</th>\n",
              "      <td>BrandIG1</td>\n",
              "    </tr>\n",
              "  </tbody>\n",
              "</table>\n",
              "</div>\n",
              "      <button class=\"colab-df-convert\" onclick=\"convertToInteractive('df-ec3cc2f7-eb94-461f-b338-286ecf7ce0fb')\"\n",
              "              title=\"Convert this dataframe to an interactive table.\"\n",
              "              style=\"display:none;\">\n",
              "        \n",
              "  <svg xmlns=\"http://www.w3.org/2000/svg\" height=\"24px\"viewBox=\"0 0 24 24\"\n",
              "       width=\"24px\">\n",
              "    <path d=\"M0 0h24v24H0V0z\" fill=\"none\"/>\n",
              "    <path d=\"M18.56 5.44l.94 2.06.94-2.06 2.06-.94-2.06-.94-.94-2.06-.94 2.06-2.06.94zm-11 1L8.5 8.5l.94-2.06 2.06-.94-2.06-.94L8.5 2.5l-.94 2.06-2.06.94zm10 10l.94 2.06.94-2.06 2.06-.94-2.06-.94-.94-2.06-.94 2.06-2.06.94z\"/><path d=\"M17.41 7.96l-1.37-1.37c-.4-.4-.92-.59-1.43-.59-.52 0-1.04.2-1.43.59L10.3 9.45l-7.72 7.72c-.78.78-.78 2.05 0 2.83L4 21.41c.39.39.9.59 1.41.59.51 0 1.02-.2 1.41-.59l7.78-7.78 2.81-2.81c.8-.78.8-2.07 0-2.86zM5.41 20L4 18.59l7.72-7.72 1.47 1.35L5.41 20z\"/>\n",
              "  </svg>\n",
              "      </button>\n",
              "      \n",
              "  <style>\n",
              "    .colab-df-container {\n",
              "      display:flex;\n",
              "      flex-wrap:wrap;\n",
              "      gap: 12px;\n",
              "    }\n",
              "\n",
              "    .colab-df-convert {\n",
              "      background-color: #E8F0FE;\n",
              "      border: none;\n",
              "      border-radius: 50%;\n",
              "      cursor: pointer;\n",
              "      display: none;\n",
              "      fill: #1967D2;\n",
              "      height: 32px;\n",
              "      padding: 0 0 0 0;\n",
              "      width: 32px;\n",
              "    }\n",
              "\n",
              "    .colab-df-convert:hover {\n",
              "      background-color: #E2EBFA;\n",
              "      box-shadow: 0px 1px 2px rgba(60, 64, 67, 0.3), 0px 1px 3px 1px rgba(60, 64, 67, 0.15);\n",
              "      fill: #174EA6;\n",
              "    }\n",
              "\n",
              "    [theme=dark] .colab-df-convert {\n",
              "      background-color: #3B4455;\n",
              "      fill: #D2E3FC;\n",
              "    }\n",
              "\n",
              "    [theme=dark] .colab-df-convert:hover {\n",
              "      background-color: #434B5C;\n",
              "      box-shadow: 0px 1px 3px 1px rgba(0, 0, 0, 0.15);\n",
              "      filter: drop-shadow(0px 1px 2px rgba(0, 0, 0, 0.3));\n",
              "      fill: #FFFFFF;\n",
              "    }\n",
              "  </style>\n",
              "\n",
              "      <script>\n",
              "        const buttonEl =\n",
              "          document.querySelector('#df-ec3cc2f7-eb94-461f-b338-286ecf7ce0fb button.colab-df-convert');\n",
              "        buttonEl.style.display =\n",
              "          google.colab.kernel.accessAllowed ? 'block' : 'none';\n",
              "\n",
              "        async function convertToInteractive(key) {\n",
              "          const element = document.querySelector('#df-ec3cc2f7-eb94-461f-b338-286ecf7ce0fb');\n",
              "          const dataTable =\n",
              "            await google.colab.kernel.invokeFunction('convertToInteractive',\n",
              "                                                     [key], {});\n",
              "          if (!dataTable) return;\n",
              "\n",
              "          const docLinkHtml = 'Like what you see? Visit the ' +\n",
              "            '<a target=\"_blank\" href=https://colab.research.google.com/notebooks/data_table.ipynb>data table notebook</a>'\n",
              "            + ' to learn more about interactive tables.';\n",
              "          element.innerHTML = '';\n",
              "          dataTable['output_type'] = 'display_data';\n",
              "          await google.colab.output.renderOutput(dataTable, element);\n",
              "          const docLink = document.createElement('div');\n",
              "          docLink.innerHTML = docLinkHtml;\n",
              "          element.appendChild(docLink);\n",
              "        }\n",
              "      </script>\n",
              "    </div>\n",
              "  </div>\n",
              "  "
            ]
          },
          "metadata": {},
          "execution_count": 12
        }
      ]
    },
    {
      "cell_type": "code",
      "source": [
        "#change csv to numpy\n",
        "brand_ig_np = brand_ig.to_numpy()\n",
        "print(brand_ig_np)\n",
        "print(brand_ig_np.shape)"
      ],
      "metadata": {
        "colab": {
          "base_uri": "https://localhost:8080/"
        },
        "id": "Bh3vJdXN7S0o",
        "outputId": "dd2c7fd9-7610-40e5-abd0-e484e3103ee8"
      },
      "execution_count": 13,
      "outputs": [
        {
          "output_type": "stream",
          "name": "stdout",
          "text": [
            "[['BrandIG1']]\n",
            "(1, 1)\n"
          ]
        }
      ]
    },
    {
      "cell_type": "markdown",
      "source": [
        "## Build Model"
      ],
      "metadata": {
        "id": "EMkXWmjoYah2"
      }
    },
    {
      "cell_type": "code",
      "source": [
        "#create a list that contain a category on ig dataset\n",
        "campaign_type = [\"Food & Cooking\", \"Fashion\", \"Entertainment\", \"Travel & Accomodation\", \"Beauty\", \"Healthcare\", \"Technology\", \"Automotive\", \"Education\", \"Sports\", \"Finance\", \"Tips & Trick About Career\"]\n",
        "print(campaign_type)"
      ],
      "metadata": {
        "colab": {
          "base_uri": "https://localhost:8080/"
        },
        "id": "P8d23Qi0YZLF",
        "outputId": "f9202b58-5906-42f3-dd57-74bbaac4c950"
      },
      "execution_count": 14,
      "outputs": [
        {
          "output_type": "stream",
          "name": "stdout",
          "text": [
            "['Food & Cooking', 'Fashion', 'Entertainment', 'Travel & Accomodation', 'Beauty', 'Healthcare', 'Technology', 'Automotive', 'Education', 'Sports', 'Finance', 'Tips & Trick About Career']\n"
          ]
        }
      ]
    },
    {
      "cell_type": "code",
      "source": [
        "#create a variable that contain a len\n",
        "len_dummy_ig = len(dummy_ig)\n",
        "len_dataset_ig = len(dataset_ig)\n",
        "len_campaign_type = len(campaign_type)\n",
        "max_recommendation = 5\n",
        "\n",
        "len_user_brand = len(user_brand)"
      ],
      "metadata": {
        "id": "fhyjbowShjix"
      },
      "execution_count": 15,
      "outputs": []
    },
    {
      "cell_type": "code",
      "source": [
        "target_ig_np_type = tf.constant(target_ig_np, dtype=tf.float32)\n",
        "kategori_ig_np_trans_type = tf.constant(kategori_ig_np_trans, dtype=tf.float32)\n",
        "print(target_ig_np_type)\n",
        "print(kategori_ig_np_trans_type)"
      ],
      "metadata": {
        "colab": {
          "base_uri": "https://localhost:8080/"
        },
        "id": "xYCAPDsejomP",
        "outputId": "03250988-b69b-476e-f564-e1675420330e"
      },
      "execution_count": 16,
      "outputs": [
        {
          "output_type": "stream",
          "name": "stdout",
          "text": [
            "tf.Tensor([[10.  0.  0.  0.  0.  0.  0.  0.  0.  0.  0.  0.]], shape=(1, 12), dtype=float32)\n",
            "tf.Tensor(\n",
            "[[0. 0. 0. ... 0. 0. 0.]\n",
            " [0. 0. 0. ... 0. 0. 0.]\n",
            " [0. 1. 0. ... 0. 0. 0.]\n",
            " ...\n",
            " [0. 0. 0. ... 0. 0. 0.]\n",
            " [0. 0. 0. ... 0. 0. 0.]\n",
            " [0. 0. 1. ... 0. 1. 0.]], shape=(12, 174), dtype=float32)\n"
          ]
        }
      ]
    },
    {
      "cell_type": "code",
      "source": [
        "np.save(\"ig.npy\", kategori_ig_np_trans_type.numpy())"
      ],
      "metadata": {
        "id": "XaOOForw89a7"
      },
      "execution_count": 17,
      "outputs": []
    },
    {
      "cell_type": "code",
      "source": [
        "#mengalikan target_ig_np_type dan kategori_ig_np_trans_type agar menjadi variable baru\n",
        "target_kategori_ig_np_type = tf.matmul(target_ig_np_type, kategori_ig_np_trans_type)\n",
        "print(target_kategori_ig_np_type)"
      ],
      "metadata": {
        "colab": {
          "base_uri": "https://localhost:8080/"
        },
        "id": "Hbkfx122o33C",
        "outputId": "8df90e6a-dfeb-4a6f-acb1-d545cc38216e"
      },
      "execution_count": 18,
      "outputs": [
        {
          "output_type": "stream",
          "name": "stdout",
          "text": [
            "tf.Tensor(\n",
            "[[ 0.  0.  0.  0. 10.  0.  0.  0.  0.  0. 10.  0. 10.  0.  0. 10.  0.  0.\n",
            "   0.  0.  0.  0.  0.  0. 10.  0.  0.  0.  0.  0.  0.  0.  0. 10.  0.  0.\n",
            "   0.  0.  0.  0.  0.  0.  0.  0.  0.  0.  0.  0.  0.  0.  0. 10.  0.  0.\n",
            "  10.  0.  0.  0.  0.  0.  0.  0.  0. 10.  0.  0.  0.  0.  0.  0.  0.  0.\n",
            "   0.  0.  0.  0. 10.  0. 10.  0.  0.  0.  0.  0.  0.  0.  0.  0.  0.  0.\n",
            "   0.  0.  0.  0.  0.  0.  0.  0.  0.  0.  0.  0.  0.  0.  0.  0.  0.  0.\n",
            "   0.  0.  0.  0.  0.  0.  0.  0.  0.  0.  0.  0.  0.  0. 10. 10. 10. 10.\n",
            "  10. 10. 10. 10.  0. 10.  0.  0.  0.  0.  0.  0.  0.  0.  0.  0.  0.  0.\n",
            "   0.  0.  0.  0.  0.  0.  0.  0.  0.  0.  0.  0.  0.  0.  0.  0.  0.  0.\n",
            "   0.  0.  0.  0.  0.  0.  0.  0.  0.  0.  0.  0.]], shape=(1, 174), dtype=float32)\n"
          ]
        }
      ]
    },
    {
      "cell_type": "code",
      "source": [
        "#mengalikan dengan bilangannya sendiri\n",
        "target_kategori_ig_np_type_red = target_kategori_ig_np_type/tf.reduce_sum(target_kategori_ig_np_type, axis=1, keepdims=True)\n",
        "print(target_kategori_ig_np_type_red)"
      ],
      "metadata": {
        "colab": {
          "base_uri": "https://localhost:8080/"
        },
        "id": "tQSXWNcOzh2s",
        "outputId": "f4c56e4f-32c6-418e-f832-808245a84311"
      },
      "execution_count": 19,
      "outputs": [
        {
          "output_type": "stream",
          "name": "stdout",
          "text": [
            "tf.Tensor(\n",
            "[[0.   0.   0.   0.   0.05 0.   0.   0.   0.   0.   0.05 0.   0.05 0.\n",
            "  0.   0.05 0.   0.   0.   0.   0.   0.   0.   0.   0.05 0.   0.   0.\n",
            "  0.   0.   0.   0.   0.   0.05 0.   0.   0.   0.   0.   0.   0.   0.\n",
            "  0.   0.   0.   0.   0.   0.   0.   0.   0.   0.05 0.   0.   0.05 0.\n",
            "  0.   0.   0.   0.   0.   0.   0.   0.05 0.   0.   0.   0.   0.   0.\n",
            "  0.   0.   0.   0.   0.   0.   0.05 0.   0.05 0.   0.   0.   0.   0.\n",
            "  0.   0.   0.   0.   0.   0.   0.   0.   0.   0.   0.   0.   0.   0.\n",
            "  0.   0.   0.   0.   0.   0.   0.   0.   0.   0.   0.   0.   0.   0.\n",
            "  0.   0.   0.   0.   0.   0.   0.   0.   0.   0.   0.05 0.05 0.05 0.05\n",
            "  0.05 0.05 0.05 0.05 0.   0.05 0.   0.   0.   0.   0.   0.   0.   0.\n",
            "  0.   0.   0.   0.   0.   0.   0.   0.   0.   0.   0.   0.   0.   0.\n",
            "  0.   0.   0.   0.   0.   0.   0.   0.   0.   0.   0.   0.   0.   0.\n",
            "  0.   0.   0.   0.   0.   0.  ]], shape=(1, 174), dtype=float32)\n"
          ]
        }
      ]
    },
    {
      "cell_type": "code",
      "source": [
        "#mendapatkan top 5 dari tf\n",
        "top_5 = tf.nn.top_k(target_kategori_ig_np_type_red, max_recommendation)[1]\n",
        "print(top_5)"
      ],
      "metadata": {
        "colab": {
          "base_uri": "https://localhost:8080/"
        },
        "id": "wqN3NKWm1fSr",
        "outputId": "b963e52d-1bb8-45cc-f2da-7e92ebde1d66"
      },
      "execution_count": 20,
      "outputs": [
        {
          "output_type": "stream",
          "name": "stdout",
          "text": [
            "tf.Tensor([[ 4 10 12 15 24]], shape=(1, 5), dtype=int32)\n"
          ]
        }
      ]
    },
    {
      "cell_type": "code",
      "source": [
        "#melihat top 5\n",
        "for i in range(len_user_brand):\n",
        "  x = [nama_ig_np[int(index)] for index in top_5[i]]\n",
        "  print('{}: {}'.format(brand_ig_np[i], x))"
      ],
      "metadata": {
        "colab": {
          "base_uri": "https://localhost:8080/"
        },
        "id": "Rwn1c36v17kz",
        "outputId": "9f1ea7a0-4691-415c-ae2c-2056dc5b77f5"
      },
      "execution_count": 21,
      "outputs": [
        {
          "output_type": "stream",
          "name": "stdout",
          "text": [
            "['BrandIG1']: ['@fadiljaidi', '@cnlulaby', '@eatandtreats', '@pufflovaa', '@tasyiiathasyia']\n"
          ]
        }
      ]
    }
  ]
}