{
  "nbformat": 4,
  "nbformat_minor": 0,
  "metadata": {
    "colab": {
      "name": "Bismillah Tiktok.ipynb",
      "provenance": [],
      "collapsed_sections": [
        "V1heUkFUXyGm"
      ]
    },
    "kernelspec": {
      "name": "python3",
      "display_name": "Python 3"
    },
    "language_info": {
      "name": "python"
    }
  },
  "cells": [
    {
      "cell_type": "markdown",
      "source": [
        "# Import"
      ],
      "metadata": {
        "id": "V1heUkFUXyGm"
      }
    },
    {
      "cell_type": "code",
      "source": [
        "#Import all of the library that we're going to use\n",
        "import pandas as pd\n",
        "import numpy as np\n",
        "import tensorflow as tf"
      ],
      "metadata": {
        "id": "_VHyQNENYT4Y"
      },
      "execution_count": 22,
      "outputs": []
    },
    {
      "cell_type": "markdown",
      "source": [
        "# Upload dataset"
      ],
      "metadata": {
        "id": "NG15NhZzYn2O"
      }
    },
    {
      "cell_type": "code",
      "source": [
        "#Here we're upload our dataset\n",
        "#In here we're going to use the \"Data Instagram\" and \"Data Tiktok\"\n",
        "dataset_tiktok = pd.read_csv(\"https://raw.githubusercontent.com/fachrul-rh/influeHands-ML/main/Dataset/TikTok.csv\")\n",
        "dummy_tiktok = pd.read_csv(\"https://raw.githubusercontent.com/fachrul-rh/influeHands-ML/main/Dataset/Dataset%20User%20(Tiktok).csv\")"
      ],
      "metadata": {
        "id": "uhrQEFdvYrMD"
      },
      "execution_count": 23,
      "outputs": []
    },
    {
      "cell_type": "code",
      "source": [
        "dummy_tiktok.head()"
      ],
      "metadata": {
        "colab": {
          "base_uri": "https://localhost:8080/",
          "height": 206
        },
        "id": "5rW2eXxT6Wvk",
        "outputId": "483846d0-4ef5-4fa7-bc59-ae2646347a25"
      },
      "execution_count": 24,
      "outputs": [
        {
          "output_type": "execute_result",
          "data": {
            "text/plain": [
              "           Nama  Food & Cooking  Fashion  Entertainment  \\\n",
              "0  BrandTiktok1              10        0              0   \n",
              "1  BrandTiktok2               0       10              0   \n",
              "2  BrandTiktok3               0        5             10   \n",
              "3  BrandTiktok4               3        3              0   \n",
              "4  BrandTiktok5               2        0              0   \n",
              "\n",
              "   Travel & Accomodation  Beauty  Healthcare  Technology  Automotive  \\\n",
              "0                      0       0           0           0           0   \n",
              "1                      0       0           0           0           0   \n",
              "2                      0       0           0           0           0   \n",
              "3                     10       0           0           0           0   \n",
              "4                      3      10           0           0           0   \n",
              "\n",
              "   Education  Sports  Finance  Tips & Trick About Career  \n",
              "0          0       0        0                          0  \n",
              "1          0       0        0                          0  \n",
              "2          0       0        0                          0  \n",
              "3          0       0        0                          0  \n",
              "4          0       0        0                          0  "
            ],
            "text/html": [
              "\n",
              "  <div id=\"df-8cb2ecdf-7e8b-4689-99a5-df590dc3d1a9\">\n",
              "    <div class=\"colab-df-container\">\n",
              "      <div>\n",
              "<style scoped>\n",
              "    .dataframe tbody tr th:only-of-type {\n",
              "        vertical-align: middle;\n",
              "    }\n",
              "\n",
              "    .dataframe tbody tr th {\n",
              "        vertical-align: top;\n",
              "    }\n",
              "\n",
              "    .dataframe thead th {\n",
              "        text-align: right;\n",
              "    }\n",
              "</style>\n",
              "<table border=\"1\" class=\"dataframe\">\n",
              "  <thead>\n",
              "    <tr style=\"text-align: right;\">\n",
              "      <th></th>\n",
              "      <th>Nama</th>\n",
              "      <th>Food &amp; Cooking</th>\n",
              "      <th>Fashion</th>\n",
              "      <th>Entertainment</th>\n",
              "      <th>Travel &amp; Accomodation</th>\n",
              "      <th>Beauty</th>\n",
              "      <th>Healthcare</th>\n",
              "      <th>Technology</th>\n",
              "      <th>Automotive</th>\n",
              "      <th>Education</th>\n",
              "      <th>Sports</th>\n",
              "      <th>Finance</th>\n",
              "      <th>Tips &amp; Trick About Career</th>\n",
              "    </tr>\n",
              "  </thead>\n",
              "  <tbody>\n",
              "    <tr>\n",
              "      <th>0</th>\n",
              "      <td>BrandTiktok1</td>\n",
              "      <td>10</td>\n",
              "      <td>0</td>\n",
              "      <td>0</td>\n",
              "      <td>0</td>\n",
              "      <td>0</td>\n",
              "      <td>0</td>\n",
              "      <td>0</td>\n",
              "      <td>0</td>\n",
              "      <td>0</td>\n",
              "      <td>0</td>\n",
              "      <td>0</td>\n",
              "      <td>0</td>\n",
              "    </tr>\n",
              "    <tr>\n",
              "      <th>1</th>\n",
              "      <td>BrandTiktok2</td>\n",
              "      <td>0</td>\n",
              "      <td>10</td>\n",
              "      <td>0</td>\n",
              "      <td>0</td>\n",
              "      <td>0</td>\n",
              "      <td>0</td>\n",
              "      <td>0</td>\n",
              "      <td>0</td>\n",
              "      <td>0</td>\n",
              "      <td>0</td>\n",
              "      <td>0</td>\n",
              "      <td>0</td>\n",
              "    </tr>\n",
              "    <tr>\n",
              "      <th>2</th>\n",
              "      <td>BrandTiktok3</td>\n",
              "      <td>0</td>\n",
              "      <td>5</td>\n",
              "      <td>10</td>\n",
              "      <td>0</td>\n",
              "      <td>0</td>\n",
              "      <td>0</td>\n",
              "      <td>0</td>\n",
              "      <td>0</td>\n",
              "      <td>0</td>\n",
              "      <td>0</td>\n",
              "      <td>0</td>\n",
              "      <td>0</td>\n",
              "    </tr>\n",
              "    <tr>\n",
              "      <th>3</th>\n",
              "      <td>BrandTiktok4</td>\n",
              "      <td>3</td>\n",
              "      <td>3</td>\n",
              "      <td>0</td>\n",
              "      <td>10</td>\n",
              "      <td>0</td>\n",
              "      <td>0</td>\n",
              "      <td>0</td>\n",
              "      <td>0</td>\n",
              "      <td>0</td>\n",
              "      <td>0</td>\n",
              "      <td>0</td>\n",
              "      <td>0</td>\n",
              "    </tr>\n",
              "    <tr>\n",
              "      <th>4</th>\n",
              "      <td>BrandTiktok5</td>\n",
              "      <td>2</td>\n",
              "      <td>0</td>\n",
              "      <td>0</td>\n",
              "      <td>3</td>\n",
              "      <td>10</td>\n",
              "      <td>0</td>\n",
              "      <td>0</td>\n",
              "      <td>0</td>\n",
              "      <td>0</td>\n",
              "      <td>0</td>\n",
              "      <td>0</td>\n",
              "      <td>0</td>\n",
              "    </tr>\n",
              "  </tbody>\n",
              "</table>\n",
              "</div>\n",
              "      <button class=\"colab-df-convert\" onclick=\"convertToInteractive('df-8cb2ecdf-7e8b-4689-99a5-df590dc3d1a9')\"\n",
              "              title=\"Convert this dataframe to an interactive table.\"\n",
              "              style=\"display:none;\">\n",
              "        \n",
              "  <svg xmlns=\"http://www.w3.org/2000/svg\" height=\"24px\"viewBox=\"0 0 24 24\"\n",
              "       width=\"24px\">\n",
              "    <path d=\"M0 0h24v24H0V0z\" fill=\"none\"/>\n",
              "    <path d=\"M18.56 5.44l.94 2.06.94-2.06 2.06-.94-2.06-.94-.94-2.06-.94 2.06-2.06.94zm-11 1L8.5 8.5l.94-2.06 2.06-.94-2.06-.94L8.5 2.5l-.94 2.06-2.06.94zm10 10l.94 2.06.94-2.06 2.06-.94-2.06-.94-.94-2.06-.94 2.06-2.06.94z\"/><path d=\"M17.41 7.96l-1.37-1.37c-.4-.4-.92-.59-1.43-.59-.52 0-1.04.2-1.43.59L10.3 9.45l-7.72 7.72c-.78.78-.78 2.05 0 2.83L4 21.41c.39.39.9.59 1.41.59.51 0 1.02-.2 1.41-.59l7.78-7.78 2.81-2.81c.8-.78.8-2.07 0-2.86zM5.41 20L4 18.59l7.72-7.72 1.47 1.35L5.41 20z\"/>\n",
              "  </svg>\n",
              "      </button>\n",
              "      \n",
              "  <style>\n",
              "    .colab-df-container {\n",
              "      display:flex;\n",
              "      flex-wrap:wrap;\n",
              "      gap: 12px;\n",
              "    }\n",
              "\n",
              "    .colab-df-convert {\n",
              "      background-color: #E8F0FE;\n",
              "      border: none;\n",
              "      border-radius: 50%;\n",
              "      cursor: pointer;\n",
              "      display: none;\n",
              "      fill: #1967D2;\n",
              "      height: 32px;\n",
              "      padding: 0 0 0 0;\n",
              "      width: 32px;\n",
              "    }\n",
              "\n",
              "    .colab-df-convert:hover {\n",
              "      background-color: #E2EBFA;\n",
              "      box-shadow: 0px 1px 2px rgba(60, 64, 67, 0.3), 0px 1px 3px 1px rgba(60, 64, 67, 0.15);\n",
              "      fill: #174EA6;\n",
              "    }\n",
              "\n",
              "    [theme=dark] .colab-df-convert {\n",
              "      background-color: #3B4455;\n",
              "      fill: #D2E3FC;\n",
              "    }\n",
              "\n",
              "    [theme=dark] .colab-df-convert:hover {\n",
              "      background-color: #434B5C;\n",
              "      box-shadow: 0px 1px 3px 1px rgba(0, 0, 0, 0.15);\n",
              "      filter: drop-shadow(0px 1px 2px rgba(0, 0, 0, 0.3));\n",
              "      fill: #FFFFFF;\n",
              "    }\n",
              "  </style>\n",
              "\n",
              "      <script>\n",
              "        const buttonEl =\n",
              "          document.querySelector('#df-8cb2ecdf-7e8b-4689-99a5-df590dc3d1a9 button.colab-df-convert');\n",
              "        buttonEl.style.display =\n",
              "          google.colab.kernel.accessAllowed ? 'block' : 'none';\n",
              "\n",
              "        async function convertToInteractive(key) {\n",
              "          const element = document.querySelector('#df-8cb2ecdf-7e8b-4689-99a5-df590dc3d1a9');\n",
              "          const dataTable =\n",
              "            await google.colab.kernel.invokeFunction('convertToInteractive',\n",
              "                                                     [key], {});\n",
              "          if (!dataTable) return;\n",
              "\n",
              "          const docLinkHtml = 'Like what you see? Visit the ' +\n",
              "            '<a target=\"_blank\" href=https://colab.research.google.com/notebooks/data_table.ipynb>data table notebook</a>'\n",
              "            + ' to learn more about interactive tables.';\n",
              "          element.innerHTML = '';\n",
              "          dataTable['output_type'] = 'display_data';\n",
              "          await google.colab.output.renderOutput(dataTable, element);\n",
              "          const docLink = document.createElement('div');\n",
              "          docLink.innerHTML = docLinkHtml;\n",
              "          element.appendChild(docLink);\n",
              "        }\n",
              "      </script>\n",
              "    </div>\n",
              "  </div>\n",
              "  "
            ]
          },
          "metadata": {},
          "execution_count": 24
        }
      ]
    },
    {
      "cell_type": "markdown",
      "source": [
        "# Build Model"
      ],
      "metadata": {
        "id": "6_90YGlmZHyd"
      }
    },
    {
      "cell_type": "markdown",
      "source": [
        "## Preparing Dataset IG"
      ],
      "metadata": {
        "id": "uhoykmm55gHL"
      }
    },
    {
      "cell_type": "code",
      "source": [
        "#Select the data for category\n",
        "kategori_tiktok = dataset_tiktok.iloc[:, 4:]\n",
        "kategori_tiktok.head()"
      ],
      "metadata": {
        "colab": {
          "base_uri": "https://localhost:8080/",
          "height": 206
        },
        "id": "gylh3fhtZOUn",
        "outputId": "96f18cba-6573-4219-88d1-ae30f5986366"
      },
      "execution_count": 25,
      "outputs": [
        {
          "output_type": "execute_result",
          "data": {
            "text/plain": [
              "   Food & Cooking  Fashion  Entertainment  Travel & Accomodation  Beauty  \\\n",
              "0               1        0              0                      0       1   \n",
              "1               0        0              1                      0       0   \n",
              "2               0        1              1                      0       0   \n",
              "3               1        0              0                      0       0   \n",
              "4               0        1              0                      0       0   \n",
              "\n",
              "   Healthcare  Technology  Automotive  Education  Sports  Finance  \\\n",
              "0           0           0           0          0       0        0   \n",
              "1           0           0           0          0       0        0   \n",
              "2           0           0           0          0       0        0   \n",
              "3           0           0           0          0       0        0   \n",
              "4           0           0           0          0       0        0   \n",
              "\n",
              "   Tips & Trick About Career  \n",
              "0                          0  \n",
              "1                          0  \n",
              "2                          0  \n",
              "3                          0  \n",
              "4                          0  "
            ],
            "text/html": [
              "\n",
              "  <div id=\"df-d04162ed-b9d8-48f5-88d3-30223f955d30\">\n",
              "    <div class=\"colab-df-container\">\n",
              "      <div>\n",
              "<style scoped>\n",
              "    .dataframe tbody tr th:only-of-type {\n",
              "        vertical-align: middle;\n",
              "    }\n",
              "\n",
              "    .dataframe tbody tr th {\n",
              "        vertical-align: top;\n",
              "    }\n",
              "\n",
              "    .dataframe thead th {\n",
              "        text-align: right;\n",
              "    }\n",
              "</style>\n",
              "<table border=\"1\" class=\"dataframe\">\n",
              "  <thead>\n",
              "    <tr style=\"text-align: right;\">\n",
              "      <th></th>\n",
              "      <th>Food &amp; Cooking</th>\n",
              "      <th>Fashion</th>\n",
              "      <th>Entertainment</th>\n",
              "      <th>Travel &amp; Accomodation</th>\n",
              "      <th>Beauty</th>\n",
              "      <th>Healthcare</th>\n",
              "      <th>Technology</th>\n",
              "      <th>Automotive</th>\n",
              "      <th>Education</th>\n",
              "      <th>Sports</th>\n",
              "      <th>Finance</th>\n",
              "      <th>Tips &amp; Trick About Career</th>\n",
              "    </tr>\n",
              "  </thead>\n",
              "  <tbody>\n",
              "    <tr>\n",
              "      <th>0</th>\n",
              "      <td>1</td>\n",
              "      <td>0</td>\n",
              "      <td>0</td>\n",
              "      <td>0</td>\n",
              "      <td>1</td>\n",
              "      <td>0</td>\n",
              "      <td>0</td>\n",
              "      <td>0</td>\n",
              "      <td>0</td>\n",
              "      <td>0</td>\n",
              "      <td>0</td>\n",
              "      <td>0</td>\n",
              "    </tr>\n",
              "    <tr>\n",
              "      <th>1</th>\n",
              "      <td>0</td>\n",
              "      <td>0</td>\n",
              "      <td>1</td>\n",
              "      <td>0</td>\n",
              "      <td>0</td>\n",
              "      <td>0</td>\n",
              "      <td>0</td>\n",
              "      <td>0</td>\n",
              "      <td>0</td>\n",
              "      <td>0</td>\n",
              "      <td>0</td>\n",
              "      <td>0</td>\n",
              "    </tr>\n",
              "    <tr>\n",
              "      <th>2</th>\n",
              "      <td>0</td>\n",
              "      <td>1</td>\n",
              "      <td>1</td>\n",
              "      <td>0</td>\n",
              "      <td>0</td>\n",
              "      <td>0</td>\n",
              "      <td>0</td>\n",
              "      <td>0</td>\n",
              "      <td>0</td>\n",
              "      <td>0</td>\n",
              "      <td>0</td>\n",
              "      <td>0</td>\n",
              "    </tr>\n",
              "    <tr>\n",
              "      <th>3</th>\n",
              "      <td>1</td>\n",
              "      <td>0</td>\n",
              "      <td>0</td>\n",
              "      <td>0</td>\n",
              "      <td>0</td>\n",
              "      <td>0</td>\n",
              "      <td>0</td>\n",
              "      <td>0</td>\n",
              "      <td>0</td>\n",
              "      <td>0</td>\n",
              "      <td>0</td>\n",
              "      <td>0</td>\n",
              "    </tr>\n",
              "    <tr>\n",
              "      <th>4</th>\n",
              "      <td>0</td>\n",
              "      <td>1</td>\n",
              "      <td>0</td>\n",
              "      <td>0</td>\n",
              "      <td>0</td>\n",
              "      <td>0</td>\n",
              "      <td>0</td>\n",
              "      <td>0</td>\n",
              "      <td>0</td>\n",
              "      <td>0</td>\n",
              "      <td>0</td>\n",
              "      <td>0</td>\n",
              "    </tr>\n",
              "  </tbody>\n",
              "</table>\n",
              "</div>\n",
              "      <button class=\"colab-df-convert\" onclick=\"convertToInteractive('df-d04162ed-b9d8-48f5-88d3-30223f955d30')\"\n",
              "              title=\"Convert this dataframe to an interactive table.\"\n",
              "              style=\"display:none;\">\n",
              "        \n",
              "  <svg xmlns=\"http://www.w3.org/2000/svg\" height=\"24px\"viewBox=\"0 0 24 24\"\n",
              "       width=\"24px\">\n",
              "    <path d=\"M0 0h24v24H0V0z\" fill=\"none\"/>\n",
              "    <path d=\"M18.56 5.44l.94 2.06.94-2.06 2.06-.94-2.06-.94-.94-2.06-.94 2.06-2.06.94zm-11 1L8.5 8.5l.94-2.06 2.06-.94-2.06-.94L8.5 2.5l-.94 2.06-2.06.94zm10 10l.94 2.06.94-2.06 2.06-.94-2.06-.94-.94-2.06-.94 2.06-2.06.94z\"/><path d=\"M17.41 7.96l-1.37-1.37c-.4-.4-.92-.59-1.43-.59-.52 0-1.04.2-1.43.59L10.3 9.45l-7.72 7.72c-.78.78-.78 2.05 0 2.83L4 21.41c.39.39.9.59 1.41.59.51 0 1.02-.2 1.41-.59l7.78-7.78 2.81-2.81c.8-.78.8-2.07 0-2.86zM5.41 20L4 18.59l7.72-7.72 1.47 1.35L5.41 20z\"/>\n",
              "  </svg>\n",
              "      </button>\n",
              "      \n",
              "  <style>\n",
              "    .colab-df-container {\n",
              "      display:flex;\n",
              "      flex-wrap:wrap;\n",
              "      gap: 12px;\n",
              "    }\n",
              "\n",
              "    .colab-df-convert {\n",
              "      background-color: #E8F0FE;\n",
              "      border: none;\n",
              "      border-radius: 50%;\n",
              "      cursor: pointer;\n",
              "      display: none;\n",
              "      fill: #1967D2;\n",
              "      height: 32px;\n",
              "      padding: 0 0 0 0;\n",
              "      width: 32px;\n",
              "    }\n",
              "\n",
              "    .colab-df-convert:hover {\n",
              "      background-color: #E2EBFA;\n",
              "      box-shadow: 0px 1px 2px rgba(60, 64, 67, 0.3), 0px 1px 3px 1px rgba(60, 64, 67, 0.15);\n",
              "      fill: #174EA6;\n",
              "    }\n",
              "\n",
              "    [theme=dark] .colab-df-convert {\n",
              "      background-color: #3B4455;\n",
              "      fill: #D2E3FC;\n",
              "    }\n",
              "\n",
              "    [theme=dark] .colab-df-convert:hover {\n",
              "      background-color: #434B5C;\n",
              "      box-shadow: 0px 1px 3px 1px rgba(0, 0, 0, 0.15);\n",
              "      filter: drop-shadow(0px 1px 2px rgba(0, 0, 0, 0.3));\n",
              "      fill: #FFFFFF;\n",
              "    }\n",
              "  </style>\n",
              "\n",
              "      <script>\n",
              "        const buttonEl =\n",
              "          document.querySelector('#df-d04162ed-b9d8-48f5-88d3-30223f955d30 button.colab-df-convert');\n",
              "        buttonEl.style.display =\n",
              "          google.colab.kernel.accessAllowed ? 'block' : 'none';\n",
              "\n",
              "        async function convertToInteractive(key) {\n",
              "          const element = document.querySelector('#df-d04162ed-b9d8-48f5-88d3-30223f955d30');\n",
              "          const dataTable =\n",
              "            await google.colab.kernel.invokeFunction('convertToInteractive',\n",
              "                                                     [key], {});\n",
              "          if (!dataTable) return;\n",
              "\n",
              "          const docLinkHtml = 'Like what you see? Visit the ' +\n",
              "            '<a target=\"_blank\" href=https://colab.research.google.com/notebooks/data_table.ipynb>data table notebook</a>'\n",
              "            + ' to learn more about interactive tables.';\n",
              "          element.innerHTML = '';\n",
              "          dataTable['output_type'] = 'display_data';\n",
              "          await google.colab.output.renderOutput(dataTable, element);\n",
              "          const docLink = document.createElement('div');\n",
              "          docLink.innerHTML = docLinkHtml;\n",
              "          element.appendChild(docLink);\n",
              "        }\n",
              "      </script>\n",
              "    </div>\n",
              "  </div>\n",
              "  "
            ]
          },
          "metadata": {},
          "execution_count": 25
        }
      ]
    },
    {
      "cell_type": "code",
      "source": [
        " #Change csv to np\n",
        "kategori_tiktok_np = kategori_tiktok.to_numpy()\n",
        "print(kategori_tiktok_np)\n",
        "print(kategori_tiktok_np.shape)"
      ],
      "metadata": {
        "colab": {
          "base_uri": "https://localhost:8080/"
        },
        "id": "VN8PL1mZZ_4x",
        "outputId": "05491898-ba6f-44ea-fd4a-d44c0427555b"
      },
      "execution_count": 26,
      "outputs": [
        {
          "output_type": "stream",
          "name": "stdout",
          "text": [
            "[[1 0 0 ... 0 0 0]\n",
            " [0 0 1 ... 0 0 0]\n",
            " [0 1 1 ... 0 0 0]\n",
            " ...\n",
            " [0 0 0 ... 1 0 0]\n",
            " [0 0 0 ... 1 1 1]\n",
            " [0 0 0 ... 1 0 0]]\n",
            "(174, 12)\n"
          ]
        }
      ]
    },
    {
      "cell_type": "code",
      "source": [
        "kategori_tiktok_np_trans = kategori_tiktok_np.transpose()"
      ],
      "metadata": {
        "id": "be0ObbBrdmtZ"
      },
      "execution_count": 27,
      "outputs": []
    },
    {
      "cell_type": "code",
      "source": [
        "#Select the username data\n",
        "nama_tiktok = dataset_tiktok.loc[: , \"Username Tiktok\"]\n",
        "nama_tiktok.head()"
      ],
      "metadata": {
        "colab": {
          "base_uri": "https://localhost:8080/"
        },
        "id": "SwooNZDsd61w",
        "outputId": "47d9d79e-284e-464e-d696-8fb1d7d8a770"
      },
      "execution_count": 28,
      "outputs": [
        {
          "output_type": "execute_result",
          "data": {
            "text/plain": [
              "0      @siscakohl\n",
              "1        @7iprast\n",
              "2     @fadiljaidi\n",
              "3    @cheekykiddo\n",
              "4          @mmvia\n",
              "Name: Username Tiktok, dtype: object"
            ]
          },
          "metadata": {},
          "execution_count": 28
        }
      ]
    },
    {
      "cell_type": "code",
      "source": [
        "nama_tiktok_np = nama_tiktok.to_numpy()\n",
        "print(nama_tiktok_np)\n",
        "print(nama_tiktok_np.shape)"
      ],
      "metadata": {
        "colab": {
          "base_uri": "https://localhost:8080/"
        },
        "id": "HhpkxsFHehVX",
        "outputId": "e0f2e632-b20a-4769-8b9a-ba3b2ba8349f"
      },
      "execution_count": 29,
      "outputs": [
        {
          "output_type": "stream",
          "name": "stdout",
          "text": [
            "['@siscakohl' '@7iprast' '@fadiljaidi' '@cheekykiddo' '@mmvia'\n",
            " '@dilanjaniyar_2' '@vmuliana' '@adamshawn19' '@thoriqhal' '@syarif.yosee'\n",
            " '@tamarajessica' '@yoo_tooo' '@greyspolii' '@sindi9rande' '@putrabrahms'\n",
            " '@aintyoursb' '@thsaurus' '@rezkiachyana' '@irnaayu27' '@helwabasheel'\n",
            " '@dhiarcom' '@jumadilmusa13' '@nadineplvn' '@buiramira' '@ilhambachtiarr'\n",
            " '@alpa.candy' '@m0nyetku' '@zahfirahfiraa_' '@felicia.tjiasaka'\n",
            " '@skincarebyjessi' '@timothyronald22' '@gadgetin' '@devvwies'\n",
            " '@cannyclau' '@akmalriadi' '@tarnandoete' '@pinkyruslie' '@aqilasheila'\n",
            " '@ceofort1s' '@tyasnastiti' '@coach.regina' '@sabrinamaidaaah'\n",
            " '@elikaboen_' '@aprirokh_' '@sobat_hape' '@pear.ling' '@aloeeveeraaaaa'\n",
            " '@dennis_SLL' '@hazellitaa' '@hungryfever' '@lovlavina' '@jscwijayaa'\n",
            " '@nadiatussaa' '@junarsyi' '@boim_lenno' '@wawxv' '@axeljeremy_'\n",
            " '@billy.abraham' '@alimtd7' '@alvionithaputri' '@jasminechennn'\n",
            " '@martinpraja' '@yuliabaltschun' '@madminyo' '@delonixsen' '@duniaaderai'\n",
            " '@ivana.harjadi' '@riffasancati' '@ladianana_' '@mobilsekenbandung'\n",
            " '@iestrikus' '@jeremiahlakhwani' '@aevafatma' '@readwithsyll'\n",
            " '@kristanto_puguh' '@805gadget' '@jonathanend' '@arrinish' '@papersboooy'\n",
            " '@wasawirman' '@ellenmay_official' '@geraldokiliari' '@andysenjaya'\n",
            " '@andysenjaya7' '@olivia.louise04' '@philipmulyana' '@sheggario'\n",
            " '@k2gadgets' '@bongchandraofficial' '@ibrokumar' '@gadgetempire'\n",
            " '@hermantotanoko' '@annisasteviani' '@ryanfilbert'\n",
            " '@wisnukumoro_official' '@pizzagadget' '@bestindotech' '@pritaghozie'\n",
            " '@marshvda' '@agalangs' '@otomotifweekly' '@zeronejapan.id' '@ditra.yuda'\n",
            " '@ngmotomotif' '@yrpofficial' '@pakgetmedia' '@otoproject' '@jeeplife.id'\n",
            " '@aristagroup.id' '@jazzcarstyle' '@auto_high' '@otoevolution_makassar'\n",
            " '@travelermiskin' '@backpackertampan' '@cannyclau' '@gungafif'\n",
            " '@daviniafc' '@backpackertoraja' '@jefripradewa' '@cynthia_cimin'\n",
            " '@ayeshaikke' '@muhammad.wahyu___' '@indra.kurniadi' '@fasyaryn'\n",
            " '@molotenggeng50gb' '@emeraldyrafael' '@clarissaputrih' '@ninakpw'\n",
            " '@sandradlubiss' '@keanuagl' '@rizkyfebian77' '@rensia_sanvira'\n",
            " '@resep_debm' '@aldoagustino21' '@fadlanhalao' '@jenelim' '@haytherexx'\n",
            " '@gracemaretta' '@christineang93' '@ananzaprili' '@sundarindah'\n",
            " '@stevanyhany' '@venithyacalistaa' '@sonnyyyxo' '@ootdkekiniannn_'\n",
            " '@junayerr' '@beliyuks' '@aestheticoutfitforu' '@leinnns' '@belvahmrr'\n",
            " '@bukanhaurazhrfh' '@afiqahhns' '@rachmafira12' '@tamarajessica'\n",
            " '@jejenvalda' '@suryadanna' '@travelbuddiesid' '@jumadilmusa13'\n",
            " '@akuferdiann' '@idgitaf' '@arnoldpo' '@jharnabhagwani' '@miss.venna'\n",
            " '@owhyuni' '@drkevinmak' '@bidanseruni140' '@dr.atika' '@diarywresty'\n",
            " '@indriwiyanii' '@ulindatobing' '@rsyx' '@mvsuperofficial'\n",
            " '@romeo_calisthenic' '@gressindacp']\n",
            "(174,)\n"
          ]
        }
      ]
    },
    {
      "cell_type": "markdown",
      "source": [
        "## Preparing Data Dummy User"
      ],
      "metadata": {
        "id": "WBTlNTDi5jbB"
      }
    },
    {
      "cell_type": "code",
      "source": [
        "user_brand = dummy_tiktok.iloc[:1, :]\n",
        "print(user_brand)"
      ],
      "metadata": {
        "colab": {
          "base_uri": "https://localhost:8080/"
        },
        "id": "pWf3SdCW79re",
        "outputId": "bc9f5c9b-613e-49c1-86b8-8ad36a6f0fae"
      },
      "execution_count": 30,
      "outputs": [
        {
          "output_type": "stream",
          "name": "stdout",
          "text": [
            "           Nama  Food & Cooking  Fashion  Entertainment  \\\n",
            "0  BrandTiktok1              10        0              0   \n",
            "\n",
            "   Travel & Accomodation  Beauty  Healthcare  Technology  Automotive  \\\n",
            "0                      0       0           0           0           0   \n",
            "\n",
            "   Education  Sports  Finance  Tips & Trick About Career  \n",
            "0          0       0        0                          0  \n"
          ]
        }
      ]
    },
    {
      "cell_type": "code",
      "source": [
        "target_tiktok = dummy_tiktok.iloc[:1 , 1: ]\n",
        "target_tiktok.head()"
      ],
      "metadata": {
        "colab": {
          "base_uri": "https://localhost:8080/",
          "height": 81
        },
        "id": "Fbs8aQUo5oPC",
        "outputId": "8d5a33d8-1675-4c6a-b093-36908fc1d881"
      },
      "execution_count": 31,
      "outputs": [
        {
          "output_type": "execute_result",
          "data": {
            "text/plain": [
              "   Food & Cooking  Fashion  Entertainment  Travel & Accomodation  Beauty  \\\n",
              "0              10        0              0                      0       0   \n",
              "\n",
              "   Healthcare  Technology  Automotive  Education  Sports  Finance  \\\n",
              "0           0           0           0          0       0        0   \n",
              "\n",
              "   Tips & Trick About Career  \n",
              "0                          0  "
            ],
            "text/html": [
              "\n",
              "  <div id=\"df-58613672-6a0b-453b-926d-92e332a60c37\">\n",
              "    <div class=\"colab-df-container\">\n",
              "      <div>\n",
              "<style scoped>\n",
              "    .dataframe tbody tr th:only-of-type {\n",
              "        vertical-align: middle;\n",
              "    }\n",
              "\n",
              "    .dataframe tbody tr th {\n",
              "        vertical-align: top;\n",
              "    }\n",
              "\n",
              "    .dataframe thead th {\n",
              "        text-align: right;\n",
              "    }\n",
              "</style>\n",
              "<table border=\"1\" class=\"dataframe\">\n",
              "  <thead>\n",
              "    <tr style=\"text-align: right;\">\n",
              "      <th></th>\n",
              "      <th>Food &amp; Cooking</th>\n",
              "      <th>Fashion</th>\n",
              "      <th>Entertainment</th>\n",
              "      <th>Travel &amp; Accomodation</th>\n",
              "      <th>Beauty</th>\n",
              "      <th>Healthcare</th>\n",
              "      <th>Technology</th>\n",
              "      <th>Automotive</th>\n",
              "      <th>Education</th>\n",
              "      <th>Sports</th>\n",
              "      <th>Finance</th>\n",
              "      <th>Tips &amp; Trick About Career</th>\n",
              "    </tr>\n",
              "  </thead>\n",
              "  <tbody>\n",
              "    <tr>\n",
              "      <th>0</th>\n",
              "      <td>10</td>\n",
              "      <td>0</td>\n",
              "      <td>0</td>\n",
              "      <td>0</td>\n",
              "      <td>0</td>\n",
              "      <td>0</td>\n",
              "      <td>0</td>\n",
              "      <td>0</td>\n",
              "      <td>0</td>\n",
              "      <td>0</td>\n",
              "      <td>0</td>\n",
              "      <td>0</td>\n",
              "    </tr>\n",
              "  </tbody>\n",
              "</table>\n",
              "</div>\n",
              "      <button class=\"colab-df-convert\" onclick=\"convertToInteractive('df-58613672-6a0b-453b-926d-92e332a60c37')\"\n",
              "              title=\"Convert this dataframe to an interactive table.\"\n",
              "              style=\"display:none;\">\n",
              "        \n",
              "  <svg xmlns=\"http://www.w3.org/2000/svg\" height=\"24px\"viewBox=\"0 0 24 24\"\n",
              "       width=\"24px\">\n",
              "    <path d=\"M0 0h24v24H0V0z\" fill=\"none\"/>\n",
              "    <path d=\"M18.56 5.44l.94 2.06.94-2.06 2.06-.94-2.06-.94-.94-2.06-.94 2.06-2.06.94zm-11 1L8.5 8.5l.94-2.06 2.06-.94-2.06-.94L8.5 2.5l-.94 2.06-2.06.94zm10 10l.94 2.06.94-2.06 2.06-.94-2.06-.94-.94-2.06-.94 2.06-2.06.94z\"/><path d=\"M17.41 7.96l-1.37-1.37c-.4-.4-.92-.59-1.43-.59-.52 0-1.04.2-1.43.59L10.3 9.45l-7.72 7.72c-.78.78-.78 2.05 0 2.83L4 21.41c.39.39.9.59 1.41.59.51 0 1.02-.2 1.41-.59l7.78-7.78 2.81-2.81c.8-.78.8-2.07 0-2.86zM5.41 20L4 18.59l7.72-7.72 1.47 1.35L5.41 20z\"/>\n",
              "  </svg>\n",
              "      </button>\n",
              "      \n",
              "  <style>\n",
              "    .colab-df-container {\n",
              "      display:flex;\n",
              "      flex-wrap:wrap;\n",
              "      gap: 12px;\n",
              "    }\n",
              "\n",
              "    .colab-df-convert {\n",
              "      background-color: #E8F0FE;\n",
              "      border: none;\n",
              "      border-radius: 50%;\n",
              "      cursor: pointer;\n",
              "      display: none;\n",
              "      fill: #1967D2;\n",
              "      height: 32px;\n",
              "      padding: 0 0 0 0;\n",
              "      width: 32px;\n",
              "    }\n",
              "\n",
              "    .colab-df-convert:hover {\n",
              "      background-color: #E2EBFA;\n",
              "      box-shadow: 0px 1px 2px rgba(60, 64, 67, 0.3), 0px 1px 3px 1px rgba(60, 64, 67, 0.15);\n",
              "      fill: #174EA6;\n",
              "    }\n",
              "\n",
              "    [theme=dark] .colab-df-convert {\n",
              "      background-color: #3B4455;\n",
              "      fill: #D2E3FC;\n",
              "    }\n",
              "\n",
              "    [theme=dark] .colab-df-convert:hover {\n",
              "      background-color: #434B5C;\n",
              "      box-shadow: 0px 1px 3px 1px rgba(0, 0, 0, 0.15);\n",
              "      filter: drop-shadow(0px 1px 2px rgba(0, 0, 0, 0.3));\n",
              "      fill: #FFFFFF;\n",
              "    }\n",
              "  </style>\n",
              "\n",
              "      <script>\n",
              "        const buttonEl =\n",
              "          document.querySelector('#df-58613672-6a0b-453b-926d-92e332a60c37 button.colab-df-convert');\n",
              "        buttonEl.style.display =\n",
              "          google.colab.kernel.accessAllowed ? 'block' : 'none';\n",
              "\n",
              "        async function convertToInteractive(key) {\n",
              "          const element = document.querySelector('#df-58613672-6a0b-453b-926d-92e332a60c37');\n",
              "          const dataTable =\n",
              "            await google.colab.kernel.invokeFunction('convertToInteractive',\n",
              "                                                     [key], {});\n",
              "          if (!dataTable) return;\n",
              "\n",
              "          const docLinkHtml = 'Like what you see? Visit the ' +\n",
              "            '<a target=\"_blank\" href=https://colab.research.google.com/notebooks/data_table.ipynb>data table notebook</a>'\n",
              "            + ' to learn more about interactive tables.';\n",
              "          element.innerHTML = '';\n",
              "          dataTable['output_type'] = 'display_data';\n",
              "          await google.colab.output.renderOutput(dataTable, element);\n",
              "          const docLink = document.createElement('div');\n",
              "          docLink.innerHTML = docLinkHtml;\n",
              "          element.appendChild(docLink);\n",
              "        }\n",
              "      </script>\n",
              "    </div>\n",
              "  </div>\n",
              "  "
            ]
          },
          "metadata": {},
          "execution_count": 31
        }
      ]
    },
    {
      "cell_type": "code",
      "source": [
        "#change csv to numpy\n",
        "target_tiktok_np = target_tiktok.to_numpy()\n",
        "print(target_tiktok_np)\n",
        "print(target_tiktok_np.shape)"
      ],
      "metadata": {
        "colab": {
          "base_uri": "https://localhost:8080/"
        },
        "id": "0yij68hY6mIA",
        "outputId": "bd124d1b-1dfb-4d7a-a89f-51b95b03f7e3"
      },
      "execution_count": 32,
      "outputs": [
        {
          "output_type": "stream",
          "name": "stdout",
          "text": [
            "[[10  0  0  0  0  0  0  0  0  0  0  0]]\n",
            "(1, 12)\n"
          ]
        }
      ]
    },
    {
      "cell_type": "code",
      "source": [
        "brand_tiktok = dummy_tiktok.iloc[0:1 , 0:1]\n",
        "brand_tiktok.head()"
      ],
      "metadata": {
        "colab": {
          "base_uri": "https://localhost:8080/",
          "height": 81
        },
        "id": "4fK4p8Fc7CJZ",
        "outputId": "9d6ea270-0fd5-4a5c-890a-b6d3736020ce"
      },
      "execution_count": 33,
      "outputs": [
        {
          "output_type": "execute_result",
          "data": {
            "text/plain": [
              "           Nama\n",
              "0  BrandTiktok1"
            ],
            "text/html": [
              "\n",
              "  <div id=\"df-47450d82-a354-4b69-9f87-5be8eab85490\">\n",
              "    <div class=\"colab-df-container\">\n",
              "      <div>\n",
              "<style scoped>\n",
              "    .dataframe tbody tr th:only-of-type {\n",
              "        vertical-align: middle;\n",
              "    }\n",
              "\n",
              "    .dataframe tbody tr th {\n",
              "        vertical-align: top;\n",
              "    }\n",
              "\n",
              "    .dataframe thead th {\n",
              "        text-align: right;\n",
              "    }\n",
              "</style>\n",
              "<table border=\"1\" class=\"dataframe\">\n",
              "  <thead>\n",
              "    <tr style=\"text-align: right;\">\n",
              "      <th></th>\n",
              "      <th>Nama</th>\n",
              "    </tr>\n",
              "  </thead>\n",
              "  <tbody>\n",
              "    <tr>\n",
              "      <th>0</th>\n",
              "      <td>BrandTiktok1</td>\n",
              "    </tr>\n",
              "  </tbody>\n",
              "</table>\n",
              "</div>\n",
              "      <button class=\"colab-df-convert\" onclick=\"convertToInteractive('df-47450d82-a354-4b69-9f87-5be8eab85490')\"\n",
              "              title=\"Convert this dataframe to an interactive table.\"\n",
              "              style=\"display:none;\">\n",
              "        \n",
              "  <svg xmlns=\"http://www.w3.org/2000/svg\" height=\"24px\"viewBox=\"0 0 24 24\"\n",
              "       width=\"24px\">\n",
              "    <path d=\"M0 0h24v24H0V0z\" fill=\"none\"/>\n",
              "    <path d=\"M18.56 5.44l.94 2.06.94-2.06 2.06-.94-2.06-.94-.94-2.06-.94 2.06-2.06.94zm-11 1L8.5 8.5l.94-2.06 2.06-.94-2.06-.94L8.5 2.5l-.94 2.06-2.06.94zm10 10l.94 2.06.94-2.06 2.06-.94-2.06-.94-.94-2.06-.94 2.06-2.06.94z\"/><path d=\"M17.41 7.96l-1.37-1.37c-.4-.4-.92-.59-1.43-.59-.52 0-1.04.2-1.43.59L10.3 9.45l-7.72 7.72c-.78.78-.78 2.05 0 2.83L4 21.41c.39.39.9.59 1.41.59.51 0 1.02-.2 1.41-.59l7.78-7.78 2.81-2.81c.8-.78.8-2.07 0-2.86zM5.41 20L4 18.59l7.72-7.72 1.47 1.35L5.41 20z\"/>\n",
              "  </svg>\n",
              "      </button>\n",
              "      \n",
              "  <style>\n",
              "    .colab-df-container {\n",
              "      display:flex;\n",
              "      flex-wrap:wrap;\n",
              "      gap: 12px;\n",
              "    }\n",
              "\n",
              "    .colab-df-convert {\n",
              "      background-color: #E8F0FE;\n",
              "      border: none;\n",
              "      border-radius: 50%;\n",
              "      cursor: pointer;\n",
              "      display: none;\n",
              "      fill: #1967D2;\n",
              "      height: 32px;\n",
              "      padding: 0 0 0 0;\n",
              "      width: 32px;\n",
              "    }\n",
              "\n",
              "    .colab-df-convert:hover {\n",
              "      background-color: #E2EBFA;\n",
              "      box-shadow: 0px 1px 2px rgba(60, 64, 67, 0.3), 0px 1px 3px 1px rgba(60, 64, 67, 0.15);\n",
              "      fill: #174EA6;\n",
              "    }\n",
              "\n",
              "    [theme=dark] .colab-df-convert {\n",
              "      background-color: #3B4455;\n",
              "      fill: #D2E3FC;\n",
              "    }\n",
              "\n",
              "    [theme=dark] .colab-df-convert:hover {\n",
              "      background-color: #434B5C;\n",
              "      box-shadow: 0px 1px 3px 1px rgba(0, 0, 0, 0.15);\n",
              "      filter: drop-shadow(0px 1px 2px rgba(0, 0, 0, 0.3));\n",
              "      fill: #FFFFFF;\n",
              "    }\n",
              "  </style>\n",
              "\n",
              "      <script>\n",
              "        const buttonEl =\n",
              "          document.querySelector('#df-47450d82-a354-4b69-9f87-5be8eab85490 button.colab-df-convert');\n",
              "        buttonEl.style.display =\n",
              "          google.colab.kernel.accessAllowed ? 'block' : 'none';\n",
              "\n",
              "        async function convertToInteractive(key) {\n",
              "          const element = document.querySelector('#df-47450d82-a354-4b69-9f87-5be8eab85490');\n",
              "          const dataTable =\n",
              "            await google.colab.kernel.invokeFunction('convertToInteractive',\n",
              "                                                     [key], {});\n",
              "          if (!dataTable) return;\n",
              "\n",
              "          const docLinkHtml = 'Like what you see? Visit the ' +\n",
              "            '<a target=\"_blank\" href=https://colab.research.google.com/notebooks/data_table.ipynb>data table notebook</a>'\n",
              "            + ' to learn more about interactive tables.';\n",
              "          element.innerHTML = '';\n",
              "          dataTable['output_type'] = 'display_data';\n",
              "          await google.colab.output.renderOutput(dataTable, element);\n",
              "          const docLink = document.createElement('div');\n",
              "          docLink.innerHTML = docLinkHtml;\n",
              "          element.appendChild(docLink);\n",
              "        }\n",
              "      </script>\n",
              "    </div>\n",
              "  </div>\n",
              "  "
            ]
          },
          "metadata": {},
          "execution_count": 33
        }
      ]
    },
    {
      "cell_type": "code",
      "source": [
        "#change csv to numpy\n",
        "brand_tiktok_np = brand_tiktok.to_numpy()\n",
        "print(brand_tiktok_np)\n",
        "print(brand_tiktok_np.shape)"
      ],
      "metadata": {
        "colab": {
          "base_uri": "https://localhost:8080/"
        },
        "id": "Bh3vJdXN7S0o",
        "outputId": "e24fc1d3-d0fe-4d8d-c86b-d4ae0fc0f13a"
      },
      "execution_count": 34,
      "outputs": [
        {
          "output_type": "stream",
          "name": "stdout",
          "text": [
            "[['BrandTiktok1']]\n",
            "(1, 1)\n"
          ]
        }
      ]
    },
    {
      "cell_type": "markdown",
      "source": [
        "## Build Model"
      ],
      "metadata": {
        "id": "EMkXWmjoYah2"
      }
    },
    {
      "cell_type": "code",
      "source": [
        "#create a list that contain a category on ig dataset\n",
        "campaign_type = [\"Food & Cooking\", \"Fashion\", \"Entertainment\", \"Travel & Accomodation\", \"Beauty\", \"Healthcare\", \"Technology\", \"Automotive\", \"Education\", \"Sports\", \"Finance\", \"Tips & Trick About Career\"]\n",
        "print(campaign_type)"
      ],
      "metadata": {
        "colab": {
          "base_uri": "https://localhost:8080/"
        },
        "id": "P8d23Qi0YZLF",
        "outputId": "f7d6fafa-f08f-4ec6-c676-55228c3aa4ca"
      },
      "execution_count": 35,
      "outputs": [
        {
          "output_type": "stream",
          "name": "stdout",
          "text": [
            "['Food & Cooking', 'Fashion', 'Entertainment', 'Travel & Accomodation', 'Beauty', 'Healthcare', 'Technology', 'Automotive', 'Education', 'Sports', 'Finance', 'Tips & Trick About Career']\n"
          ]
        }
      ]
    },
    {
      "cell_type": "code",
      "source": [
        "#create a variable that contain a len\n",
        "len_dummy_tiktok = len(dummy_tiktok)\n",
        "len_dataset_tiktok = len(dataset_tiktok)\n",
        "len_campaign_type = len(campaign_type)\n",
        "max_recommendation = 5\n",
        "\n",
        "len_user_brand = len(user_brand)"
      ],
      "metadata": {
        "id": "fhyjbowShjix"
      },
      "execution_count": 36,
      "outputs": []
    },
    {
      "cell_type": "code",
      "source": [
        "target_tiktok_np_type = tf.constant(target_tiktok_np, dtype=tf.float32)\n",
        "kategori_tiktok_np_trans_type = tf.constant(kategori_tiktok_np_trans, dtype=tf.float32)\n",
        "print(target_tiktok_np_type)\n",
        "print(kategori_tiktok_np_trans_type)"
      ],
      "metadata": {
        "colab": {
          "base_uri": "https://localhost:8080/"
        },
        "id": "xYCAPDsejomP",
        "outputId": "d4f945f3-c6c4-41f4-cbd8-7e70c0fe5e64"
      },
      "execution_count": 37,
      "outputs": [
        {
          "output_type": "stream",
          "name": "stdout",
          "text": [
            "tf.Tensor([[10.  0.  0.  0.  0.  0.  0.  0.  0.  0.  0.  0.]], shape=(1, 12), dtype=float32)\n",
            "tf.Tensor(\n",
            "[[1. 0. 0. ... 0. 0. 0.]\n",
            " [0. 0. 1. ... 0. 0. 0.]\n",
            " [0. 1. 1. ... 0. 0. 0.]\n",
            " ...\n",
            " [0. 0. 0. ... 1. 1. 1.]\n",
            " [0. 0. 0. ... 0. 1. 0.]\n",
            " [0. 0. 0. ... 0. 1. 0.]], shape=(12, 174), dtype=float32)\n"
          ]
        }
      ]
    },
    {
      "cell_type": "code",
      "source": [
        "np.save(\"tiktok.npy\", kategori_tiktok_np_trans_type.numpy())"
      ],
      "metadata": {
        "id": "XaOOForw89a7"
      },
      "execution_count": 38,
      "outputs": []
    },
    {
      "cell_type": "code",
      "source": [
        "#mengalikan target_ig_np_type dan kategori_ig_np_trans_type agar menjadi variable baru\n",
        "target_kategori_tiktok_np_type = tf.matmul(target_tiktok_np_type, kategori_tiktok_np_trans_type)\n",
        "print(target_kategori_tiktok_np_type)"
      ],
      "metadata": {
        "colab": {
          "base_uri": "https://localhost:8080/"
        },
        "id": "Hbkfx122o33C",
        "outputId": "199a0c26-2a78-4343-d256-5f2dbc83c0ef"
      },
      "execution_count": 39,
      "outputs": [
        {
          "output_type": "stream",
          "name": "stdout",
          "text": [
            "tf.Tensor(\n",
            "[[10.  0.  0. 10.  0. 10.  0. 10. 10.  0. 10.  0. 10.  0.  0.  0.  0.  0.\n",
            "   0.  0.  0.  0.  0.  0.  0.  0.  0.  0.  0.  0.  0.  0.  0.  0.  0. 10.\n",
            "   0.  0.  0.  0.  0.  0.  0.  0.  0.  0. 10.  0.  0. 10.  0.  0.  0.  0.\n",
            "   0. 10.  0.  0.  0.  0.  0. 10.  0.  0.  0.  0.  0.  0.  0.  0.  0.  0.\n",
            "   0.  0. 10.  0.  0.  0.  0.  0.  0.  0.  0.  0.  0.  0.  0.  0.  0.  0.\n",
            "   0.  0.  0.  0.  0.  0.  0.  0. 10.  0.  0.  0.  0.  0.  0.  0.  0.  0.\n",
            "   0.  0.  0.  0.  0.  0.  0.  0.  0.  0.  0.  0.  0.  0.  0. 10.  0.  0.\n",
            "   0.  0.  0.  0.  0.  0. 10.  0.  0.  0.  0.  0.  0.  0.  0. 10. 10.  0.\n",
            "   0.  0.  0.  0.  0.  0.  0.  0. 10. 10. 10.  0.  0.  0.  0.  0. 10.  0.\n",
            "   0.  0.  0.  0.  0.  0.  0.  0.  0.  0.  0.  0.]], shape=(1, 174), dtype=float32)\n"
          ]
        }
      ]
    },
    {
      "cell_type": "code",
      "source": [
        "#mengalikan dengan bilangannya sendiri\n",
        "target_kategori_tiktok_np_type_red = target_kategori_tiktok_np_type/tf.reduce_sum(target_kategori_tiktok_np_type, axis=1, keepdims=True)\n",
        "print(target_kategori_tiktok_np_type_red)"
      ],
      "metadata": {
        "colab": {
          "base_uri": "https://localhost:8080/"
        },
        "id": "tQSXWNcOzh2s",
        "outputId": "d6db706d-e879-4abe-808a-4d0765c0ccc1"
      },
      "execution_count": 40,
      "outputs": [
        {
          "output_type": "stream",
          "name": "stdout",
          "text": [
            "tf.Tensor(\n",
            "[[0.04545455 0.         0.         0.04545455 0.         0.04545455\n",
            "  0.         0.04545455 0.04545455 0.         0.04545455 0.\n",
            "  0.04545455 0.         0.         0.         0.         0.\n",
            "  0.         0.         0.         0.         0.         0.\n",
            "  0.         0.         0.         0.         0.         0.\n",
            "  0.         0.         0.         0.         0.         0.04545455\n",
            "  0.         0.         0.         0.         0.         0.\n",
            "  0.         0.         0.         0.         0.04545455 0.\n",
            "  0.         0.04545455 0.         0.         0.         0.\n",
            "  0.         0.04545455 0.         0.         0.         0.\n",
            "  0.         0.04545455 0.         0.         0.         0.\n",
            "  0.         0.         0.         0.         0.         0.\n",
            "  0.         0.         0.04545455 0.         0.         0.\n",
            "  0.         0.         0.         0.         0.         0.\n",
            "  0.         0.         0.         0.         0.         0.\n",
            "  0.         0.         0.         0.         0.         0.\n",
            "  0.         0.         0.04545455 0.         0.         0.\n",
            "  0.         0.         0.         0.         0.         0.\n",
            "  0.         0.         0.         0.         0.         0.\n",
            "  0.         0.         0.         0.         0.         0.\n",
            "  0.         0.         0.         0.04545455 0.         0.\n",
            "  0.         0.         0.         0.         0.         0.\n",
            "  0.04545455 0.         0.         0.         0.         0.\n",
            "  0.         0.         0.         0.04545455 0.04545455 0.\n",
            "  0.         0.         0.         0.         0.         0.\n",
            "  0.         0.         0.04545455 0.04545455 0.04545455 0.\n",
            "  0.         0.         0.         0.         0.04545455 0.\n",
            "  0.         0.         0.         0.         0.         0.\n",
            "  0.         0.         0.         0.         0.         0.        ]], shape=(1, 174), dtype=float32)\n"
          ]
        }
      ]
    },
    {
      "cell_type": "code",
      "source": [
        "#mendapatkan top 5 dari tf\n",
        "top_5 = tf.nn.top_k(target_kategori_tiktok_np_type_red, max_recommendation)[1]\n",
        "print(top_5)"
      ],
      "metadata": {
        "colab": {
          "base_uri": "https://localhost:8080/"
        },
        "id": "wqN3NKWm1fSr",
        "outputId": "bd1aff60-3e46-408d-fec0-ba9034152b5d"
      },
      "execution_count": 41,
      "outputs": [
        {
          "output_type": "stream",
          "name": "stdout",
          "text": [
            "tf.Tensor([[0 3 5 7 8]], shape=(1, 5), dtype=int32)\n"
          ]
        }
      ]
    },
    {
      "cell_type": "code",
      "source": [
        "#melihat top 5\n",
        "for i in range(len_user_brand):\n",
        "  x = [nama_tiktok_np[int(index)] for index in top_5[i]]\n",
        "  print('{}: {}'.format(brand_tiktok_np[i], x))"
      ],
      "metadata": {
        "colab": {
          "base_uri": "https://localhost:8080/"
        },
        "id": "Rwn1c36v17kz",
        "outputId": "3c762d01-a40a-4a45-afa4-b2cb92fae662"
      },
      "execution_count": 42,
      "outputs": [
        {
          "output_type": "stream",
          "name": "stdout",
          "text": [
            "['BrandTiktok1']: ['@siscakohl', '@cheekykiddo', '@dilanjaniyar_2', '@adamshawn19', '@thoriqhal']\n"
          ]
        }
      ]
    }
  ]
}